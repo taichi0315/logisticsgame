{
 "cells": [
  {
   "cell_type": "code",
   "execution_count": 1,
   "metadata": {},
   "outputs": [],
   "source": [
    "from gurobipy import Model, quicksum, GRB"
   ]
  },
  {
   "cell_type": "code",
   "execution_count": 2,
   "metadata": {},
   "outputs": [],
   "source": [
    "Cust = set(range(1,3))\n",
    "DC = Cust.copy() \n",
    "Route = {(i,j) for i in DC for j in Cust}\n",
    "CT = {1,2}\n",
    "\n",
    "T = 3\n",
    "Period = list(range(1, T+1))"
   ]
  },
  {
   "cell_type": "code",
   "execution_count": 3,
   "metadata": {},
   "outputs": [],
   "source": [
    "transport = {i:10 for i in DC}\n",
    "delivery = {(i,j):5 for i,j in Route}\n",
    "\n",
    "dc_run = {(i,ct):100*ct for i in DC for ct in CT}\n",
    "dc_stock = {i:1 for i in DC}\n",
    "dc_ub = {ct:80*ct for ct in CT}\n",
    "dc_new = 0\n",
    "dc_cancel = 0\n",
    "\n",
    "cust_stock = {j:5 for j in Cust}\n",
    "cust_out = 100\n",
    "\n",
    "dc_disposal = 10\n",
    "\n",
    "demand = {(j,t):10 for j in Cust for t in Period}"
   ]
  },
  {
   "cell_type": "code",
   "execution_count": 4,
   "metadata": {},
   "outputs": [
    {
     "name": "stdout",
     "output_type": "stream",
     "text": [
      "\n",
      "--------------------------------------------\n",
      "Warning: your license will expire in 12 days\n",
      "--------------------------------------------\n",
      "\n",
      "Academic license - for non-commercial use only\n"
     ]
    }
   ],
   "source": [
    "model = Model()"
   ]
  },
  {
   "cell_type": "code",
   "execution_count": 5,
   "metadata": {},
   "outputs": [],
   "source": [
    "X, x, y, sD, sC, z, w, o, d = {}, {}, {}, {}, {}, {}, {}, {}, {}\n",
    "\n",
    "for i in DC:\n",
    "    for t in Period:\n",
    "        X[i,t] = model.addVar(vtype=\"I\", name=f'X[{i},{t}]')\n",
    "\n",
    "for i,j in Route:\n",
    "    for t in Period:\n",
    "        x[i,j,t] = model.addVar(vtype=\"I\", name=f'x[{i},{j},{t}]')\n",
    "\n",
    "for i in DC:\n",
    "    for ct in CT:\n",
    "        y[i,ct,0] = model.addVar(vtype=\"B\", ub=0, name=f'y[{i},{ct},{0}]')\n",
    "        for t in Period:\n",
    "            y[i,ct,t] = model.addVar(vtype=\"B\", name=f'y[{i},{ct},{t}]')\n",
    "\n",
    "for i in DC:\n",
    "    sD[i,0] = model.addVar(vtype=\"I\", ub=0, name=f'sD[{i},{t}]')\n",
    "    for t in Period:\n",
    "        sD[i,t] = model.addVar(vtype=\"I\", name=f'sD[{i},{t}]')\n",
    "        d[i,t] = model.addVar(vtype=\"I\", name=f'd[{i},{t}]')\n",
    "\n",
    "for j in Cust:\n",
    "    sC[j,0] = model.addVar(vtype=\"I\", ub=0, name=f'sC[{j},{t}]')\n",
    "    for t in Period:\n",
    "        sC[j,t] = model.addVar(vtype=\"I\", name=f'sC[{j},{t}]')\n",
    "        o[j,t] = model.addVar(vtype=\"I\", name=f'o[{j},{t}]')\n",
    "\n",
    "for i in DC:\n",
    "    for ct in CT:\n",
    "        for t in Period:\n",
    "            z[i,ct,t] = model.addVar(vtype=\"B\", name=f'z[{i},{ct},{t}]')\n",
    "            w[i,ct,t] = model.addVar(vtype=\"B\", name=f'w[{i},{ct},{t}]')\n",
    "\n",
    "model.update()"
   ]
  },
  {
   "cell_type": "code",
   "execution_count": 6,
   "metadata": {},
   "outputs": [],
   "source": [
    "Cust_Demand_Cons, DC_Running_Cons, CT_Only_Cons, DC_Flow_Cons, DC_UB_Cons, DC_Connect_Cons = {}, {}, {}, {}, {}, {}\n",
    "\n",
    "for j in Cust:\n",
    "    for t in Period:\n",
    "        Cust_Demand_Cons[j,t] = model.addConstr(\n",
    "            quicksum(x[i,j,t] for i in DC) + sC[j,t-1]\n",
    "            ==\n",
    "            demand[j,t] + sC[j,t] - o[j,t]\n",
    "        )\n",
    "\n",
    "for i,j in Route:\n",
    "    for t in Period:\n",
    "        DC_Running_Cons[i,j] = model.addConstr(\n",
    "            x[i,j,t]\n",
    "            <=\n",
    "            quicksum(demand[j,t_] for t_ in Period) * quicksum(y[i,ct,t] for ct in CT)\n",
    "        )\n",
    "\n",
    "for i in DC:\n",
    "    for t in Period:\n",
    "        CT_Only_Cons[i,t] = model.addConstr(\n",
    "            quicksum(y[i,ct,t] for ct in CT)\n",
    "            <=\n",
    "            1\n",
    "        )\n",
    "\n",
    "for i in DC:\n",
    "    for t in Period:\n",
    "        DC_Flow_Cons = model.addConstr(\n",
    "            X[i,t] + sD[i,t-1]\n",
    "            ==\n",
    "            quicksum(x[i,j,t] for j in Cust) + sD[i,t] + d[i,t]\n",
    "        )\n",
    "\n",
    "for i in DC:\n",
    "    for t in Period:\n",
    "        DC_UB_Cons[i,t] = model.addConstr(\n",
    "            X[i,t] + sD[i,t-1]\n",
    "            <=\n",
    "            quicksum(dc_ub[ct] * y[i,ct,t] for ct in  CT)\n",
    "        )\n",
    "\n",
    "for i in DC:\n",
    "    for ct in CT:\n",
    "        for t in Period:\n",
    "            DC_Connect_Cons[i,ct,t] = model.addConstr(\n",
    "                y[i,ct,t] - y[i,ct,t-1]\n",
    "                ==\n",
    "                z[i,ct,t] - w[i,ct,t]\n",
    "            )\n",
    "    \n",
    "model.update()"
   ]
  },
  {
   "cell_type": "code",
   "execution_count": 7,
   "metadata": {},
   "outputs": [],
   "source": [
    "model.setObjective(\n",
    "    quicksum(transport[i] * X[i,t] for i in DC for t in Period) +\n",
    "    quicksum(delivery[i,j] * x[i,j,t] for i,j in Route for t in Period) +\n",
    "    quicksum(dc_run[i,ct] * y[i,ct,t] for i in DC for ct in CT for t in Period) +\n",
    "    quicksum(dc_stock[i] * sD[i,t] for i in DC for t in Period) +\n",
    "    quicksum(cust_stock[j] * sC[j,t] for j in Cust for t in Period) +\n",
    "    quicksum(dc_new * z[i,ct,t] for i in DC for ct in CT for t in Period) +\n",
    "    quicksum(dc_cancel * w[i,ct,t] for i in DC for ct in CT for t in Period) +\n",
    "    quicksum(cust_out * o[j,t] for j in Cust for t in Period) +\n",
    "    quicksum(dc_disposal * d[i,t] for i in DC for t in Period)\n",
    "    ,GRB.MINIMIZE\n",
    ")\n",
    "\n",
    "model.update()"
   ]
  },
  {
   "cell_type": "code",
   "execution_count": 8,
   "metadata": {},
   "outputs": [
    {
     "name": "stdout",
     "output_type": "stream",
     "text": [
      "Optimize a model with 48 rows, 86 columns and 186 nonzeros\n",
      "Variable types: 0 continuous, 86 integer (40 binary)\n",
      "Coefficient statistics:\n",
      "  Matrix range     [1e+00, 2e+02]\n",
      "  Objective range  [1e+00, 2e+02]\n",
      "  Bounds range     [1e+00, 1e+00]\n",
      "  RHS range        [1e+00, 1e+01]\n",
      "Found heuristic solution: objective 6000.0000000\n",
      "Presolve removed 14 rows and 48 columns\n",
      "Presolve time: 0.00s\n",
      "Presolved: 34 rows, 38 columns, 114 nonzeros\n",
      "Variable types: 0 continuous, 38 integer (12 binary)\n",
      "\n",
      "Root relaxation: objective 1.066667e+03, 16 iterations, 0.00 seconds\n",
      "\n",
      "    Nodes    |    Current Node    |     Objective Bounds      |     Work\n",
      " Expl Unexpl |  Obj  Depth IntInf | Incumbent    BestBd   Gap | It/Node Time\n",
      "\n",
      "     0     0 1066.66667    0    2 6000.00000 1066.66667  82.2%     -    0s\n",
      "H    0     0                    1200.0000000 1066.66667  11.1%     -    0s\n",
      "     0     0 1100.00000    0    2 1200.00000 1100.00000  8.33%     -    0s\n",
      "     0     0 1150.00000    0   13 1200.00000 1150.00000  4.17%     -    0s\n",
      "     0     0 1150.00000    0   13 1200.00000 1150.00000  4.17%     -    0s\n",
      "     0     2 1150.00000    0   13 1200.00000 1150.00000  4.17%     -    0s\n",
      "\n",
      "Cutting planes:\n",
      "  MIR: 4\n",
      "\n",
      "Explored 10 nodes (46 simplex iterations) in 0.04 seconds\n",
      "Thread count was 8 (of 8 available processors)\n",
      "\n",
      "Solution count 2: 1200 6000 \n",
      "\n",
      "Optimal solution found (tolerance 1.00e-04)\n",
      "Best objective 1.200000000000e+03, best bound 1.200000000000e+03, gap 0.0000%\n"
     ]
    }
   ],
   "source": [
    "model.optimize()"
   ]
  },
  {
   "cell_type": "code",
   "execution_count": 9,
   "metadata": {},
   "outputs": [
    {
     "name": "stdout",
     "output_type": "stream",
     "text": [
      "X[1,1] 20.0\n",
      "X[2,2] 20.0\n",
      "X[2,3] 20.0\n",
      "x[1,2,1] 10.0\n",
      "x[1,1,1] 10.0\n",
      "x[2,1,2] 10.0\n",
      "x[2,1,3] 10.0\n",
      "x[2,2,2] 10.0\n",
      "x[2,2,3] 10.0\n",
      "y[1,1,1] 1.0\n",
      "y[2,1,2] 1.0\n",
      "y[2,1,3] 1.0\n",
      "z[1,1,1] 1.0\n",
      "w[1,1,2] 1.0\n",
      "z[1,2,1] 1.0\n",
      "w[1,2,1] 1.0\n",
      "z[2,1,1] 1.0\n",
      "w[2,1,1] 1.0\n",
      "z[2,1,2] 1.0\n",
      "z[2,2,1] 1.0\n",
      "w[2,2,1] 1.0\n"
     ]
    }
   ],
   "source": [
    "for v in model.getVars():\n",
    "    if v.X > 0:\n",
    "        print(v.VarName, v.X)"
   ]
  },
  {
   "cell_type": "code",
   "execution_count": null,
   "metadata": {},
   "outputs": [],
   "source": []
  },
  {
   "cell_type": "code",
   "execution_count": null,
   "metadata": {},
   "outputs": [],
   "source": []
  }
 ],
 "metadata": {
  "kernelspec": {
   "display_name": "Python 3",
   "language": "python",
   "name": "python3"
  },
  "language_info": {
   "codemirror_mode": {
    "name": "ipython",
    "version": 3
   },
   "file_extension": ".py",
   "mimetype": "text/x-python",
   "name": "python",
   "nbconvert_exporter": "python",
   "pygments_lexer": "ipython3",
   "version": "3.7.2"
  }
 },
 "nbformat": 4,
 "nbformat_minor": 2
}
