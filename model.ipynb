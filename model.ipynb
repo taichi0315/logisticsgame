{
 "cells": [
  {
   "cell_type": "code",
   "execution_count": 1,
   "metadata": {},
   "outputs": [],
   "source": [
    "from gurobipy import Model, quicksum, GRB"
   ]
  },
  {
   "cell_type": "code",
   "execution_count": 2,
   "metadata": {},
   "outputs": [],
   "source": [
    "Cust = set(range(1,3))\n",
    "DC = Cust.copy() \n",
    "Route = {(i,j) for i in DC for j in Cust}\n",
    "CT = {1,2}\n",
    "\n",
    "T = 4\n",
    "Period = list(range(1, T+1))"
   ]
  },
  {
   "cell_type": "code",
   "execution_count": 3,
   "metadata": {},
   "outputs": [],
   "source": [
    "transport = {(i,t):10 for i in DC for t in Period}\n",
    "transport.update({(i,1):1 for i in DC})\n",
    "delivery = {(i,j):5 for i,j in Route}\n",
    "dc_run = {(i,ct):100*ct for i in DC for ct in CT}\n",
    "dc_stock = {i:1 for i in DC}\n",
    "dc_ub = {ct:40*ct for ct in CT}\n",
    "\n",
    "demand = {(j,t):10 for j in Cust for t in Period}"
   ]
  },
  {
   "cell_type": "code",
   "execution_count": 4,
   "metadata": {},
   "outputs": [
    {
     "name": "stdout",
     "output_type": "stream",
     "text": [
      "\n",
      "--------------------------------------------\n",
      "Warning: your license will expire in 12 days\n",
      "--------------------------------------------\n",
      "\n",
      "Academic license - for non-commercial use only\n"
     ]
    }
   ],
   "source": [
    "model = Model()"
   ]
  },
  {
   "cell_type": "code",
   "execution_count": 5,
   "metadata": {},
   "outputs": [],
   "source": [
    "X, x, y, sD = {}, {}, {}, {}\n",
    "\n",
    "for i in DC:\n",
    "    for t in Period:\n",
    "        X[i,t] = model.addVar(vtype=\"C\", name=f'X[{i},{t}]')\n",
    "\n",
    "for i,j in Route:\n",
    "    for t in Period:\n",
    "        x[i,j,t] = model.addVar(vtype=\"C\", name=f'x[{i},{j},{t}]')\n",
    "\n",
    "for i in DC:\n",
    "    for ct in CT:\n",
    "        for t in Period:\n",
    "            y[i,ct,t] = model.addVar(vtype=\"B\", name=f'y[{i},{ct},{t}]')\n",
    "\n",
    "for i in DC:\n",
    "    sD[i,0] = model.addVar(vtype=\"C\", ub=0, name=f'sD[{i},{t}]')\n",
    "    for t in Period:\n",
    "        sD[i,t] = model.addVar(vtype=\"C\", name=f'sD[{i},{t}]')\n",
    "\n",
    "model.update()"
   ]
  },
  {
   "cell_type": "code",
   "execution_count": 6,
   "metadata": {},
   "outputs": [],
   "source": [
    "Cust_Demand_Cons, DC_Running_Cons, CT_Only_Cons, DC_Flow_Cons, DC_UB_Cons = {}, {}, {}, {}, {}\n",
    "\n",
    "for j in Cust:\n",
    "    for t in Period:\n",
    "        Cust_Demand_Cons[j,t] = model.addConstr(\n",
    "            quicksum(x[i,j,t] for i in DC)\n",
    "            ==\n",
    "            demand[j,t]\n",
    "        )\n",
    "\n",
    "for i,j in Route:\n",
    "    for t in Period:\n",
    "        DC_Running_Cons[i,j] = model.addConstr(\n",
    "            x[i,j,t]\n",
    "            <=\n",
    "            quicksum(demand[j,t_] for t_ in Period) * quicksum(y[i,ct,t] for ct in CT)\n",
    "        )\n",
    "\n",
    "for i in DC:\n",
    "    for t in Period:\n",
    "        CT_Only_Cons[i,t] = model.addConstr(\n",
    "            quicksum(y[i,ct,t] for ct in CT)\n",
    "            <=\n",
    "            1\n",
    "        )\n",
    "\n",
    "for i in DC:\n",
    "    for t in Period:\n",
    "        DC_Flow_Cons = model.addConstr(\n",
    "            X[i,t] + sD[i,t-1]\n",
    "            ==\n",
    "            quicksum(x[i,j,t] for j in Cust) + sD[i,t]\n",
    "        )\n",
    "\n",
    "for i in DC:\n",
    "    for t in Period:\n",
    "        DC_UB_Cons[i,t] = model.addConstr(\n",
    "            X[i,t] + sD[i,t-1]\n",
    "            <=\n",
    "            quicksum(dc_ub[ct] * y[i,ct,t] for ct in  CT)\n",
    "        )\n",
    "    \n",
    "model.update()"
   ]
  },
  {
   "cell_type": "code",
   "execution_count": 7,
   "metadata": {},
   "outputs": [],
   "source": [
    "model.setObjective(\n",
    "    quicksum(transport[i,t] * X[i,t] for i in DC for t in Period) +\n",
    "    quicksum(delivery[i,j] * x[i,j,t] for i,j in Route for t in Period) +\n",
    "    quicksum(dc_run[i,ct] * y[i,ct,t] for i in DC for ct in CT for t in Period) +\n",
    "    quicksum(dc_stock[i] * sD[i,t] for i in DC for t in Period)\n",
    "    ,GRB.MINIMIZE\n",
    ")\n",
    "\n",
    "model.update()"
   ]
  },
  {
   "cell_type": "code",
   "execution_count": 8,
   "metadata": {},
   "outputs": [
    {
     "name": "stdout",
     "output_type": "stream",
     "text": [
      "Optimize a model with 48 rows, 50 columns and 152 nonzeros\n",
      "Variable types: 34 continuous, 16 integer (16 binary)\n",
      "Coefficient statistics:\n",
      "  Matrix range     [1e+00, 8e+01]\n",
      "  Objective range  [1e+00, 2e+02]\n",
      "  Bounds range     [1e+00, 1e+00]\n",
      "  RHS range        [1e+00, 1e+01]\n",
      "Found heuristic solution: objective 2020.0000000\n",
      "Presolve removed 18 rows and 18 columns\n",
      "Presolve time: 0.00s\n",
      "Presolved: 30 rows, 32 columns, 94 nonzeros\n",
      "Variable types: 16 continuous, 16 integer (16 binary)\n",
      "\n",
      "Root relaxation: objective 1.150000e+03, 19 iterations, 0.00 seconds\n",
      "\n",
      "    Nodes    |    Current Node    |     Objective Bounds      |     Work\n",
      " Expl Unexpl |  Obj  Depth IntInf | Incumbent    BestBd   Gap | It/Node Time\n",
      "\n",
      "     0     0 1150.00000    0    8 2020.00000 1150.00000  43.1%     -    0s\n",
      "H    0     0                    1200.0000000 1150.00000  4.17%     -    0s\n",
      "     0     0 1170.00000    0    5 1200.00000 1170.00000  2.50%     -    0s\n",
      "\n",
      "Cutting planes:\n",
      "  Gomory: 4\n",
      "  MIR: 1\n",
      "\n",
      "Explored 1 nodes (28 simplex iterations) in 0.02 seconds\n",
      "Thread count was 8 (of 8 available processors)\n",
      "\n",
      "Solution count 2: 1200 2020 \n",
      "\n",
      "Optimal solution found (tolerance 1.00e-04)\n",
      "Best objective 1.200000000000e+03, best bound 1.200000000000e+03, gap 0.0000%\n"
     ]
    }
   ],
   "source": [
    "model.optimize()"
   ]
  },
  {
   "cell_type": "code",
   "execution_count": 9,
   "metadata": {},
   "outputs": [
    {
     "name": "stdout",
     "output_type": "stream",
     "text": [
      "X[1,1] 40.0\n",
      "X[2,1] 40.0\n",
      "x[1,2,1] 10.0\n",
      "x[1,2,2] 10.0\n",
      "x[1,1,1] 10.0\n",
      "x[1,1,2] 10.0\n",
      "x[2,1,3] 10.0\n",
      "x[2,1,4] 10.0\n",
      "x[2,2,3] 10.0\n",
      "x[2,2,4] 10.0\n",
      "y[1,1,1] 1.0\n",
      "y[1,1,2] 1.0\n",
      "y[2,1,1] 1.0\n",
      "y[2,1,2] 1.0\n",
      "y[2,1,3] 1.0\n",
      "y[2,1,4] 1.0\n",
      "sD[1,1] 20.0\n",
      "sD[2,1] 40.0\n",
      "sD[2,2] 40.0\n",
      "sD[2,3] 20.0\n"
     ]
    }
   ],
   "source": [
    "for v in model.getVars():\n",
    "    if v.X > 0:\n",
    "        print(v.VarName, v.X)"
   ]
  },
  {
   "cell_type": "code",
   "execution_count": null,
   "metadata": {},
   "outputs": [],
   "source": []
  },
  {
   "cell_type": "code",
   "execution_count": null,
   "metadata": {},
   "outputs": [],
   "source": []
  }
 ],
 "metadata": {
  "kernelspec": {
   "display_name": "Python 3",
   "language": "python",
   "name": "python3"
  },
  "language_info": {
   "codemirror_mode": {
    "name": "ipython",
    "version": 3
   },
   "file_extension": ".py",
   "mimetype": "text/x-python",
   "name": "python",
   "nbconvert_exporter": "python",
   "pygments_lexer": "ipython3",
   "version": "3.7.2"
  }
 },
 "nbformat": 4,
 "nbformat_minor": 2
}
