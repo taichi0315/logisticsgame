{
 "cells": [
  {
   "cell_type": "code",
   "execution_count": 1,
   "metadata": {},
   "outputs": [],
   "source": [
    "from gurobipy import Model, quicksum, GRB"
   ]
  },
  {
   "cell_type": "code",
   "execution_count": 2,
   "metadata": {},
   "outputs": [],
   "source": [
    "Cust = set(range(1,3))\n",
    "DC = Cust.copy() \n",
    "Route = {(i,j) for i in DC for j in Cust}\n",
    "CT = {1,2}\n",
    "\n",
    "T = 3\n",
    "Period = list(range(1, T+1))"
   ]
  },
  {
   "cell_type": "code",
   "execution_count": 3,
   "metadata": {},
   "outputs": [],
   "source": [
    "transport = {i:1 for i in DC}\n",
    "delivery = {(i,j):5 for i,j in Route}\n",
    "dc_run = {(i,ct):100*ct for i in DC for ct in CT}\n",
    "dc_stock = {i:1 for i in DC}\n",
    "\n",
    "demand = {(j,t):10 for j in Cust for t in Period}"
   ]
  },
  {
   "cell_type": "code",
   "execution_count": 4,
   "metadata": {},
   "outputs": [
    {
     "name": "stdout",
     "output_type": "stream",
     "text": [
      "\n",
      "--------------------------------------------\n",
      "Warning: your license will expire in 13 days\n",
      "--------------------------------------------\n",
      "\n",
      "Academic license - for non-commercial use only\n"
     ]
    }
   ],
   "source": [
    "model = Model()"
   ]
  },
  {
   "cell_type": "code",
   "execution_count": 5,
   "metadata": {},
   "outputs": [],
   "source": [
    "X, x, y, sD = {}, {}, {}, {}\n",
    "\n",
    "for i in DC:\n",
    "    for t in Period:\n",
    "        X[i,t] = model.addVar(vtype=\"C\", name=f'X[{i},{t}]')\n",
    "\n",
    "for i,j in Route:\n",
    "    for t in Period:\n",
    "        x[i,j,t] = model.addVar(vtype=\"C\", name=f'x[{i},{j},{t}]')\n",
    "\n",
    "for i in DC:\n",
    "    for ct in CT:\n",
    "        for t in Period:\n",
    "            y[i,ct,t] = model.addVar(vtype=\"B\", name=f'y[{i},{ct},{t}]')\n",
    "\n",
    "for i in DC:\n",
    "    sD[i,0] = model.addVar(vtype=\"C\", ub=0, name=f'sD[{i},{t}]')\n",
    "    for t in Period:\n",
    "        sD[i,t] = model.addVar(vtype=\"C\", name=f'sD[{i},{t}]')\n",
    "\n",
    "model.update()"
   ]
  },
  {
   "cell_type": "code",
   "execution_count": 6,
   "metadata": {},
   "outputs": [],
   "source": [
    "Cust_Demand_Cons, DC_Running_Cons, CT_Only_Cons, DC_Flow_Cons = {}, {}, {}, {}\n",
    "\n",
    "for j in Cust:\n",
    "    for t in Period:\n",
    "        Cust_Demand_Cons[j,t] = model.addConstr(\n",
    "            quicksum(x[i,j,t] for i in DC)\n",
    "            ==\n",
    "            demand[j,t]\n",
    "        )\n",
    "\n",
    "for i,j in Route:\n",
    "    for t in Period:\n",
    "        DC_Running_Cons[i,j] = model.addConstr(\n",
    "            x[i,j,t]\n",
    "            <=\n",
    "            quicksum(demand[j,t_] for t_ in Period) * quicksum(y[i,ct,t] for ct in CT)\n",
    "        )\n",
    "\n",
    "for i in DC:\n",
    "    for t in Period:\n",
    "        CT_Only_Cons[i,t] = model.addConstr(\n",
    "            quicksum(y[i,ct,t] for ct in CT)\n",
    "            <=\n",
    "            1\n",
    "        )\n",
    "\n",
    "for i in DC:\n",
    "    for t in Period:\n",
    "        DC_Flow_Cons = model.addConstr(\n",
    "            X[i,t] + sD[i,t-1]\n",
    "            ==\n",
    "            quicksum(x[i,j,t] for j in Cust) + sD[i,t]\n",
    "        )\n",
    "    \n",
    "model.update()"
   ]
  },
  {
   "cell_type": "code",
   "execution_count": 7,
   "metadata": {},
   "outputs": [],
   "source": [
    "model.setObjective(\n",
    "    quicksum(transport[i] * X[i,t] for i in DC for t in Period) +\n",
    "    quicksum(delivery[i,j] * x[i,j,t] for i,j in Route for t in Period) +\n",
    "    quicksum(dc_run[i,ct] * y[i,ct,t] for i in DC for ct in CT for t in Period) +\n",
    "    quicksum(dc_stock[i] * sD[i,t] for i in DC for t in Period)\n",
    "    ,GRB.MINIMIZE\n",
    ")\n",
    "\n",
    "model.update()"
   ]
  },
  {
   "cell_type": "code",
   "execution_count": 8,
   "metadata": {},
   "outputs": [
    {
     "name": "stdout",
     "output_type": "stream",
     "text": [
      "Optimize a model with 30 rows, 38 columns and 90 nonzeros\n",
      "Variable types: 26 continuous, 12 integer (12 binary)\n",
      "Coefficient statistics:\n",
      "  Matrix range     [1e+00, 3e+01]\n",
      "  Objective range  [1e+00, 2e+04]\n",
      "  Bounds range     [1e+00, 1e+00]\n",
      "  RHS range        [1e+00, 1e+01]\n",
      "Found heuristic solution: objective 80360.000000\n",
      "Presolve removed 30 rows and 38 columns\n",
      "Presolve time: 0.00s\n",
      "Presolve: All rows and columns removed\n",
      "\n",
      "Explored 0 nodes (0 simplex iterations) in 0.01 seconds\n",
      "Thread count was 1 (of 8 available processors)\n",
      "\n",
      "Solution count 2: 30360 80360 \n",
      "\n",
      "Optimal solution found (tolerance 1.00e-04)\n",
      "Best objective 3.036000000000e+04, best bound 3.036000000000e+04, gap 0.0000%\n"
     ]
    }
   ],
   "source": [
    "model.optimize()"
   ]
  },
  {
   "cell_type": "code",
   "execution_count": 9,
   "metadata": {},
   "outputs": [
    {
     "name": "stdout",
     "output_type": "stream",
     "text": [
      "X[2,1] 20.0\n",
      "X[2,2] 20.0\n",
      "X[2,3] 20.0\n",
      "x[2,1,1] 10.0\n",
      "x[2,1,2] 10.0\n",
      "x[2,1,3] 10.0\n",
      "x[2,2,1] 10.0\n",
      "x[2,2,2] 10.0\n",
      "x[2,2,3] 10.0\n",
      "y[2,1,1] 1.0\n",
      "y[2,1,2] 1.0\n",
      "y[2,1,3] 1.0\n"
     ]
    }
   ],
   "source": [
    "for v in model.getVars():\n",
    "    if v.X > 0:\n",
    "        print(v.VarName, v.X)"
   ]
  },
  {
   "cell_type": "code",
   "execution_count": null,
   "metadata": {},
   "outputs": [],
   "source": []
  },
  {
   "cell_type": "code",
   "execution_count": null,
   "metadata": {},
   "outputs": [],
   "source": []
  }
 ],
 "metadata": {
  "kernelspec": {
   "display_name": "Python 3",
   "language": "python",
   "name": "python3"
  },
  "language_info": {
   "codemirror_mode": {
    "name": "ipython",
    "version": 3
   },
   "file_extension": ".py",
   "mimetype": "text/x-python",
   "name": "python",
   "nbconvert_exporter": "python",
   "pygments_lexer": "ipython3",
   "version": "3.7.2"
  }
 },
 "nbformat": 4,
 "nbformat_minor": 2
}
