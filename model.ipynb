{
 "cells": [
  {
   "cell_type": "code",
   "execution_count": 1,
   "metadata": {},
   "outputs": [],
   "source": [
    "from gurobipy import Model, quicksum, GRB"
   ]
  },
  {
   "cell_type": "code",
   "execution_count": 2,
   "metadata": {},
   "outputs": [],
   "source": [
    "Cust = set(range(1,3))\n",
    "DC = Cust.copy() \n",
    "Route = {(i,j) for i in DC for j in Cust}\n",
    "CT = {1,2}\n",
    "\n",
    "T = 2\n",
    "Period = list(range(1, T+1))"
   ]
  },
  {
   "cell_type": "code",
   "execution_count": 3,
   "metadata": {},
   "outputs": [],
   "source": [
    "transport = {i:10 for i in DC}\n",
    "delivery = {(i,j):5 for i,j in Route}\n",
    "\n",
    "dc_run = {(i,ct):100*ct for i in DC for ct in CT}\n",
    "dc_stock = {i:1 for i in DC}\n",
    "dc_ub = {ct:80*ct for ct in CT}\n",
    "\n",
    "cust_stock = {j:1 for j in Cust}\n",
    "\n",
    "demand = {(j,t):10 for j in Cust for t in Period}"
   ]
  },
  {
   "cell_type": "code",
   "execution_count": 4,
   "metadata": {},
   "outputs": [],
   "source": [
    "model = Model()"
   ]
  },
  {
   "cell_type": "code",
   "execution_count": 5,
   "metadata": {},
   "outputs": [],
   "source": [
    "X, x, y, sD, sC = {}, {}, {}, {}, {}\n",
    "\n",
    "for i in DC:\n",
    "    for t in Period:\n",
    "        X[i,t] = model.addVar(vtype=\"C\", name=f'X[{i},{t}]')\n",
    "\n",
    "for i,j in Route:\n",
    "    for t in Period:\n",
    "        x[i,j,t] = model.addVar(vtype=\"C\", name=f'x[{i},{j},{t}]')\n",
    "\n",
    "for i in DC:\n",
    "    for ct in CT:\n",
    "        for t in Period:\n",
    "            y[i,ct,t] = model.addVar(vtype=\"B\", name=f'y[{i},{ct},{t}]')\n",
    "\n",
    "for i in DC:\n",
    "    sD[i,0] = model.addVar(vtype=\"C\", ub=0, name=f'sD[{i},{t}]')\n",
    "    for t in Period:\n",
    "        sD[i,t] = model.addVar(vtype=\"C\", name=f'sD[{i},{t}]')\n",
    "\n",
    "for j in Cust:\n",
    "    sC[j,0] = model.addVar(vtype=\"C\", ub=0, name=f'sC[{j},{t}]')\n",
    "    for t in Period:\n",
    "        sC[j,t] = model.addVar(vtype=\"C\", name=f'sC[{j},{t}]')\n",
    "\n",
    "model.update()"
   ]
  },
  {
   "cell_type": "code",
   "execution_count": 6,
   "metadata": {},
   "outputs": [],
   "source": [
    "Cust_Demand_Cons, DC_Running_Cons, CT_Only_Cons, DC_Flow_Cons, DC_UB_Cons = {}, {}, {}, {}, {}\n",
    "\n",
    "for j in Cust:\n",
    "    for t in Period:\n",
    "        Cust_Demand_Cons[j,t] = model.addConstr(\n",
    "            quicksum(x[i,j,t] for i in DC) + sC[j,t-1]\n",
    "            ==\n",
    "            demand[j,t] + sC[j,t]\n",
    "        )\n",
    "\n",
    "for i,j in Route:\n",
    "    for t in Period:\n",
    "        DC_Running_Cons[i,j] = model.addConstr(\n",
    "            x[i,j,t]\n",
    "            <=\n",
    "            quicksum(demand[j,t_] for t_ in Period) * quicksum(y[i,ct,t] for ct in CT)\n",
    "        )\n",
    "\n",
    "for i in DC:\n",
    "    for t in Period:\n",
    "        CT_Only_Cons[i,t] = model.addConstr(\n",
    "            quicksum(y[i,ct,t] for ct in CT)\n",
    "            <=\n",
    "            1\n",
    "        )\n",
    "\n",
    "for i in DC:\n",
    "    for t in Period:\n",
    "        DC_Flow_Cons = model.addConstr(\n",
    "            X[i,t] + sD[i,t-1]\n",
    "            ==\n",
    "            quicksum(x[i,j,t] for j in Cust) + sD[i,t]\n",
    "        )\n",
    "\n",
    "for i in DC:\n",
    "    for t in Period:\n",
    "        DC_UB_Cons[i,t] = model.addConstr(\n",
    "            X[i,t] + sD[i,t-1]\n",
    "            <=\n",
    "            quicksum(dc_ub[ct] * y[i,ct,t] for ct in  CT)\n",
    "        )\n",
    "    \n",
    "model.update()"
   ]
  },
  {
   "cell_type": "code",
   "execution_count": 7,
   "metadata": {},
   "outputs": [],
   "source": [
    "model.setObjective(\n",
    "    quicksum(transport[i] * X[i,t] for i in DC for t in Period) +\n",
    "    quicksum(delivery[i,j] * x[i,j,t] for i,j in Route for t in Period) +\n",
    "    quicksum(dc_run[i,ct] * y[i,ct,t] for i in DC for ct in CT for t in Period) +\n",
    "    quicksum(dc_stock[i] * sD[i,t] for i in DC for t in Period) +\n",
    "    quicksum(cust_stock[j] * sC[j,t] for j in Cust for t in Period)\n",
    "    ,GRB.MINIMIZE\n",
    ")\n",
    "\n",
    "model.update()"
   ]
  },
  {
   "cell_type": "code",
   "execution_count": 8,
   "metadata": {},
   "outputs": [
    {
     "name": "stdout",
     "output_type": "stream",
     "text": [
      "     0     0 1320.00000    0    3 1780.00000 1320.00000  25.8%     -    0s\n",
      "H    0     0                    1520.0000000 1320.00000  13.2%     -    0s\n",
      "H    0     0                    1440.0000000 1320.00000  8.33%     -    0s\n",
      "H    0     0                    1420.0000000 1320.00000  7.04%     -    0s\n",
      "     0     0     cutoff    0      1420.00000 1420.00000  0.00%     -    0s\n",
      "\n",
      "Cutting planes:\n",
      "  Gomory: 3\n",
      "  Implied bound: 2\n",
      "  Network: 1\n",
      "\n",
      "Explored 1 nodes (25 simplex iterations) in 0.02 seconds\n",
      "Thread count was 8 (of 8 available processors)\n",
      "\n",
      "Solution count 4: 1420 1440 1520 1780 \n",
      "\n",
      "Optimal solution found (tolerance 1.00e-04)\n",
      "Best objective 1.420000000000e+03, best bound 1.420000000000e+03, gap 0.0000%\n"
     ]
    }
   ],
   "source": [
    "model.optimize()"
   ]
  },
  {
   "cell_type": "code",
   "execution_count": 9,
   "metadata": {},
   "outputs": [
    {
     "name": "stdout",
     "output_type": "stream",
     "text": [
      "X[1,1] 80.0\n",
      "x[1,2,1] 40.0\n",
      "x[1,1,1] 40.0\n",
      "y[1,1,1] 1.0\n",
      "sC[1,1] 30.000000000000036\n",
      "sC[1,2] 20.000000000000036\n",
      "sC[1,3] 9.999999999999986\n",
      "sC[2,1] 30.000000000000036\n",
      "sC[2,2] 20.000000000000036\n",
      "sC[2,3] 9.999999999999986\n"
     ]
    }
   ],
   "source": [
    "for v in model.getVars():\n",
    "    if v.X > 0:\n",
    "        print(v.VarName, v.X)"
   ]
  },
  {
   "cell_type": "code",
   "execution_count": null,
   "metadata": {},
   "outputs": [],
   "source": []
  },
  {
   "cell_type": "code",
   "execution_count": null,
   "metadata": {},
   "outputs": [],
   "source": []
  }
 ],
 "metadata": {
  "kernelspec": {
   "display_name": "Python 3",
   "language": "python",
   "name": "python3"
  },
  "language_info": {
   "codemirror_mode": {
    "name": "ipython",
    "version": 3
   },
   "file_extension": ".py",
   "mimetype": "text/x-python",
   "name": "python",
   "nbconvert_exporter": "python",
   "pygments_lexer": "ipython3",
   "version": "3.7.2"
  }
 },
 "nbformat": 4,
 "nbformat_minor": 2
}
