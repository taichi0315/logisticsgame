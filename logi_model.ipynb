{
 "cells": [
  {
   "cell_type": "markdown",
   "metadata": {},
   "source": [
    "# 事前準備\n",
    "## ライブラリのインポート"
   ]
  },
  {
   "cell_type": "code",
   "execution_count": 21,
   "metadata": {},
   "outputs": [],
   "source": [
    "from gurobipy import Model, quicksum, GRB\n",
    "import pandas as pd\n",
    "import pickle"
   ]
  },
  {
   "cell_type": "markdown",
   "metadata": {},
   "source": [
    "## 事前に用意されたデータの読み込み\n",
    "読み込んでいる`logi_data.dump`ファイルは、同ディレクトリ内にある`make_logi_data.ipynb`ファイルで作成しています。"
   ]
  },
  {
   "cell_type": "code",
   "execution_count": 30,
   "metadata": {},
   "outputs": [],
   "source": [
    "with open('logi_data.dump', 'rb') as f:\n",
    "    Cust = pickle.load(f)                #顧客の集合\n",
    "    DC = pickle.load(f)                   #流通センターの集合\n",
    "    Route = pickle.load(f)              #配送ルートの集合\n",
    "    CT = pickle.load(f)                   #センタータイプの集合\n",
    "    transport = pickle.load(f)       #輸送費\n",
    "    delivery = pickle.load(f)          #配送費\n",
    "    dc_run = pickle.load(f)           #流通センター維持費\n",
    "    dc_stock = pickle.load(f)       #流通センター在庫費\n",
    "    dc_ub = pickle.load(f)            #流通センター保管容量\n",
    "    dc_new = pickle.load(f)         #流通センター新規契約費\n",
    "    dc_cancel = pickle.load(f)     #流通センター解約費\n",
    "    dc_disposal = pickle.load(f)  #流通センター在庫廃棄費\n",
    "    cust_stock = pickle.load(f)   #販社在庫費\n",
    "    cust_out = pickle.load(f)       #販社品切れ費"
   ]
  },
  {
   "cell_type": "markdown",
   "metadata": {},
   "source": [
    "## 計画期間の決定"
   ]
  },
  {
   "cell_type": "code",
   "execution_count": 31,
   "metadata": {},
   "outputs": [],
   "source": [
    "T = 8                                             #モデルの計画期の決定\n",
    "Period = list(range(1, T+1))      #計画期間のリスト"
   ]
  },
  {
   "cell_type": "markdown",
   "metadata": {},
   "source": [
    "## demand.csvファイルを読み込み"
   ]
  },
  {
   "cell_type": "code",
   "execution_count": 24,
   "metadata": {},
   "outputs": [],
   "source": [
    "df = pd.read_csv('demand.csv', header=None)\n",
    "demand = {(j,t):df[t-1][j-1] for j in Cust for t in Period}"
   ]
  },
  {
   "cell_type": "markdown",
   "metadata": {},
   "source": [
    "# モデルの構築\n",
    "## モデルの作成"
   ]
  },
  {
   "cell_type": "code",
   "execution_count": 25,
   "metadata": {},
   "outputs": [],
   "source": [
    "model = Model()"
   ]
  },
  {
   "cell_type": "markdown",
   "metadata": {},
   "source": [
    "## 変数の追加"
   ]
  },
  {
   "cell_type": "code",
   "execution_count": 27,
   "metadata": {},
   "outputs": [],
   "source": [
    "X, x, y, sD, sC, z, w, o, d = {}, {}, {}, {}, {}, {}, {}, {}, {}\n",
    "\n",
    "#期tにおける流通センターiへの輸送量X[i,t]を追加\n",
    "for i in DC:\n",
    "    for t in Period:\n",
    "        X[i,t] = model.addVar(vtype=\"I\", name=f'X[{i},{t}]')\n",
    "\n",
    "#期tにおける流通センターiから販社jへの配送量x[i,j,t]を追加\n",
    "for i,j in Route:\n",
    "    for t in Period:\n",
    "        x[i,j,t] = model.addVar(vtype=\"I\", name=f'x[{i},{j},{t}]')\n",
    "\n",
    "#期tにおいて地点iにセンタータイプctの流通センターを運用するかどうかのバイナリ変数y[i,ct,t]を追加\n",
    "for i in DC:\n",
    "    for ct in CT:\n",
    "        y[i,ct,0] = model.addVar(vtype=\"B\", ub=0, name=f'y[{i},{ct},{0}]')\n",
    "        for t in Period:\n",
    "            y[i,ct,t] = model.addVar(vtype=\"B\", name=f'y[{i},{ct},{t}]')\n",
    "\n",
    "#期tにおける流通センターiの在庫量sD[i,t]を追加\n",
    "for i in DC:\n",
    "    sD[i,0] = model.addVar(vtype=\"I\", ub=0, name=f'sD[{i},{t}]')\n",
    "    for t in Period:\n",
    "        sD[i,t] = model.addVar(vtype=\"I\", name=f'sD[{i},{t}]')\n",
    "        d[i,t] = model.addVar(vtype=\"I\", name=f'd[{i},{t}]')\n",
    "\n",
    "#期tにおける販社jの在庫量sC[j,t]を追加\n",
    "for j in Cust:\n",
    "    sC[j,0] = model.addVar(vtype=\"I\", ub=0, name=f'sC[{j},{t}]')\n",
    "    for t in Period:\n",
    "        sC[j,t] = model.addVar(vtype=\"I\", name=f'sC[{j},{t}]')\n",
    "\n",
    "#期tにおいて地点iにセンタータイプctの流通センターを新しく建てるかどうかのバイナリ変数z[i,ct,t]を追加\n",
    "for i in DC:\n",
    "    for ct in CT:\n",
    "        for t in Period:\n",
    "            z[i,ct,t] = model.addVar(vtype=\"B\", name=f'z[{i},{ct},{t}]')\n",
    "\n",
    "#期tにおいて地点iにセンタータイプctの流通センターを解約するかどうかのバイナリ変数w[i,ct,t]を追加\n",
    "for i in DC:\n",
    "    for ct in CT:\n",
    "        for t in Period:\n",
    "            w[i,ct,t] = model.addVar(vtype=\"B\", name=f'w[{i},{ct},{t}]')\n",
    "\n",
    "#期tにおける販社jの品切れ量o[j,t]を追加\n",
    "for j in Cust:\n",
    "    for t in Period:\n",
    "        o[j,t] = model.addVar(vtype=\"I\", name=f'o[{j},{t}]')\n",
    "\n",
    "#期tにおける流通センターiの在庫量廃棄量d[i,t]を追加\n",
    "for i in DC:\n",
    "    for t in Period:\n",
    "        d[i,t] = model.addVar(vtype=\"I\", name=f'd[{i},{t}]')\n",
    "\n",
    "        \n",
    "model.update()"
   ]
  },
  {
   "cell_type": "markdown",
   "metadata": {},
   "source": [
    "## 制約の追加"
   ]
  },
  {
   "cell_type": "code",
   "execution_count": 28,
   "metadata": {},
   "outputs": [],
   "source": [
    "Cust_Demand_Cons, DC_Running_Cons, CT_Only_Cons, DC_Flow_Cons, DC_UB_Cons, DC_Connect_Cons = {}, {}, {}, {}, {}, {}\n",
    "\n",
    "for j in Cust:\n",
    "    for t in Period:\n",
    "        Cust_Demand_Cons[j,t] = model.addConstr(\n",
    "            quicksum(x[i,j,t] for i in DC) + sC[j,t-1]\n",
    "            ==\n",
    "            demand[j,t] + sC[j,t] - o[j,t]\n",
    "        )\n",
    "\n",
    "for i,j in Route:\n",
    "    for t in Period:\n",
    "        DC_Running_Cons[i,j] = model.addConstr(\n",
    "            x[i,j,t]\n",
    "            <=\n",
    "            quicksum(demand[j,t_] for t_ in Period) * quicksum(y[i,ct,t] for ct in CT)\n",
    "        )\n",
    "\n",
    "for i in DC:\n",
    "    for t in Period:\n",
    "        CT_Only_Cons[i,t] = model.addConstr(\n",
    "            quicksum(y[i,ct,t] for ct in CT)\n",
    "            <=\n",
    "            1\n",
    "        )\n",
    "\n",
    "for i in DC:\n",
    "    for t in Period:\n",
    "        DC_Flow_Cons = model.addConstr(\n",
    "            X[i,t] + sD[i,t-1]\n",
    "            ==\n",
    "            quicksum(x[i,j,t] for j in Cust) + sD[i,t] + d[i,t]\n",
    "        )\n",
    "\n",
    "for i in DC:\n",
    "    for t in Period:\n",
    "        DC_UB_Cons[i,t] = model.addConstr(\n",
    "            X[i,t] + sD[i,t-1]\n",
    "            <=\n",
    "            quicksum(dc_ub[ct] * y[i,ct,t] for ct in  CT)\n",
    "        )\n",
    "\n",
    "for i in DC:\n",
    "    for ct in CT:\n",
    "        for t in Period:\n",
    "            DC_Connect_Cons[i,ct,t] = model.addConstr(\n",
    "                y[i,ct,t] - y[i,ct,t-1]\n",
    "                ==\n",
    "                z[i,ct,t] - w[i,ct,t]\n",
    "            )\n",
    "    \n",
    "model.update()"
   ]
  },
  {
   "cell_type": "markdown",
   "metadata": {},
   "source": [
    "## 目的関数の設定"
   ]
  },
  {
   "cell_type": "code",
   "execution_count": 17,
   "metadata": {},
   "outputs": [],
   "source": [
    "model.setObjective(\n",
    "    quicksum(transport[i] * X[i,t] for i in DC for t in Period) +\n",
    "    quicksum(delivery[i,j] * x[i,j,t] for i,j in Route for t in Period) +\n",
    "    quicksum(dc_run[i,ct] * y[i,ct,t] for i in DC for ct in CT for t in Period) +\n",
    "    quicksum(dc_stock * sD[i,t] for i in DC for t in Period) +\n",
    "    quicksum(cust_stock * sC[j,t] for j in Cust for t in Period) +\n",
    "    quicksum(dc_new * z[i,ct,t] for i in DC for ct in CT for t in Period) +\n",
    "    quicksum(dc_cancel * w[i,ct,t] for i in DC for ct in CT for t in Period) +\n",
    "    quicksum(cust_out * o[j,t] for j in Cust for t in Period) +\n",
    "    quicksum(dc_disposal * d[i,t] for i in DC for t in Period)\n",
    "    ,GRB.MINIMIZE\n",
    ")\n",
    "\n",
    "model.update()"
   ]
  },
  {
   "cell_type": "markdown",
   "metadata": {},
   "source": [
    "## 求解"
   ]
  },
  {
   "cell_type": "code",
   "execution_count": 29,
   "metadata": {},
   "outputs": [
    {
     "name": "stdout",
     "output_type": "stream",
     "text": [
      "Optimize a model with 1760 rows, 5610 columns and 11176 nonzeros\n",
      "Variable types: 0 continuous, 5610 integer (2750 binary)\n",
      "Coefficient statistics:\n",
      "  Matrix range     [1e+00, 3e+02]\n",
      "  Objective range  [0e+00, 0e+00]\n",
      "  Bounds range     [1e+00, 1e+00]\n",
      "  RHS range        [1e+00, 5e+01]\n",
      "Found heuristic solution: objective 0.0000000\n",
      "\n",
      "Explored 0 nodes (0 simplex iterations) in 0.02 seconds\n",
      "Thread count was 1 (of 4 available processors)\n",
      "\n",
      "Solution count 1: 0 \n",
      "\n",
      "Optimal solution found (tolerance 1.00e-04)\n",
      "Best objective 0.000000000000e+00, best bound 0.000000000000e+00, gap 0.0000%\n"
     ]
    }
   ],
   "source": [
    "model.optimize()"
   ]
  },
  {
   "cell_type": "markdown",
   "metadata": {},
   "source": [
    "# 最適解の可視化"
   ]
  },
  {
   "cell_type": "code",
   "execution_count": 19,
   "metadata": {},
   "outputs": [
    {
     "name": "stdout",
     "output_type": "stream",
     "text": [
      "X[7,1] 80.0\n",
      "X[7,2] 80.0\n",
      "X[7,3] 80.0\n",
      "X[7,4] 72.0\n",
      "X[7,5] 78.0\n",
      "X[7,6] 71.0\n",
      "X[7,7] 80.0\n",
      "X[7,8] 80.0\n",
      "X[9,5] 59.0\n",
      "X[9,6] 80.0\n",
      "X[9,7] 80.0\n",
      "X[9,8] 80.0\n",
      "X[10,1] 80.0\n",
      "X[10,2] 80.0\n",
      "X[10,3] 80.0\n",
      "X[10,4] 80.0\n",
      "X[10,5] 80.0\n",
      "X[10,6] 80.0\n",
      "X[10,7] 80.0\n",
      "X[10,8] 80.0\n",
      "X[11,6] 57.0\n",
      "X[11,7] 68.0\n",
      "X[11,8] 80.0\n",
      "x[11,11,6] 32.0\n",
      "x[11,11,7] 40.0\n",
      "x[11,11,8] 41.0\n",
      "x[11,5,6] 25.0\n",
      "x[11,5,7] 14.0\n",
      "x[11,5,8] 19.0\n",
      "x[7,6,1] 20.0\n",
      "x[7,6,2] 16.0\n",
      "x[7,6,3] 17.0\n",
      "x[7,6,4] 10.0\n",
      "x[7,6,5] 22.0\n",
      "x[7,6,6] 33.0\n",
      "x[7,6,7] 36.0\n",
      "x[7,6,8] 30.0\n",
      "x[9,9,5] 30.0\n",
      "x[9,9,6] 47.0\n",
      "x[9,9,7] 39.0\n",
      "x[9,9,8] 34.0\n",
      "x[7,8,1] 16.0\n",
      "x[7,8,2] 20.0\n",
      "x[7,8,3] 23.0\n",
      "x[7,8,4] 10.0\n",
      "x[7,8,6] 2.0\n",
      "x[10,3,1] 12.0\n",
      "x[10,3,2] 15.0\n",
      "x[10,3,3] 7.0\n",
      "x[10,3,4] 11.0\n",
      "x[10,3,5] 6.0\n",
      "x[10,3,6] 12.0\n",
      "x[10,3,7] 25.0\n",
      "x[10,3,8] 16.0\n",
      "x[7,2,1] 12.0\n",
      "x[7,2,2] 9.0\n",
      "x[7,2,3] 6.0\n",
      "x[7,2,4] 14.0\n",
      "x[7,2,5] 15.0\n",
      "x[10,9,1] 8.0\n",
      "x[10,9,2] 17.0\n",
      "x[10,9,3] 18.0\n",
      "x[11,4,8] 9.0\n",
      "x[10,4,1] 8.0\n",
      "x[10,4,2] 8.0\n",
      "x[10,4,3] 8.0\n",
      "x[10,4,4] 9.0\n",
      "x[10,4,5] 8.0\n",
      "x[10,4,6] 14.0\n",
      "x[10,4,7] 7.0\n",
      "x[10,4,8] 3.0\n",
      "x[7,1,1] 5.0\n",
      "x[7,1,3] 5.0\n",
      "x[10,10,1] 26.0\n",
      "x[10,10,2] 15.0\n",
      "x[10,10,3] 18.0\n",
      "x[10,10,4] 23.0\n",
      "x[10,10,5] 25.0\n",
      "x[10,10,6] 28.0\n",
      "x[10,10,7] 46.0\n",
      "x[10,10,8] 42.0\n",
      "x[9,2,7] 18.0\n",
      "x[9,8,5] 29.0\n",
      "x[9,8,6] 33.0\n",
      "x[9,8,7] 23.0\n",
      "x[9,8,8] 46.0\n",
      "x[10,5,1] 15.0\n",
      "x[10,5,2] 7.0\n",
      "x[10,5,3] 7.0\n",
      "x[10,5,4] 6.0\n",
      "x[10,5,5] 16.0\n",
      "x[10,11,1] 11.0\n",
      "x[10,11,2] 13.0\n",
      "x[10,11,3] 22.0\n",
      "x[10,11,4] 25.0\n",
      "x[10,11,5] 18.0\n",
      "x[7,7,1] 22.0\n",
      "x[7,7,2] 35.0\n",
      "x[7,7,3] 28.0\n",
      "x[7,7,4] 25.0\n",
      "x[7,7,5] 41.0\n",
      "x[7,7,6] 36.0\n",
      "x[7,7,7] 44.0\n",
      "x[7,7,8] 50.0\n",
      "x[11,1,7] 14.0\n",
      "x[11,1,8] 5.0\n",
      "x[10,1,2] 5.0\n",
      "x[10,1,4] 6.0\n",
      "x[10,1,5] 4.0\n",
      "x[10,1,6] 11.0\n",
      "x[7,9,1] 5.0\n",
      "x[7,9,3] 1.0\n",
      "x[7,9,4] 13.0\n",
      "x[11,6,8] 6.0\n",
      "x[10,2,5] 3.0\n",
      "x[10,2,6] 15.0\n",
      "x[10,2,7] 2.0\n",
      "x[10,2,8] 19.0\n",
      "y[7,3,1] 1.0\n",
      "y[7,3,2] 1.0\n",
      "y[7,3,3] 1.0\n",
      "y[7,3,4] 1.0\n",
      "y[7,3,5] 1.0\n",
      "y[7,3,6] 1.0\n",
      "y[7,3,7] 1.0\n",
      "y[7,3,8] 1.0\n",
      "y[9,3,5] 1.0\n",
      "y[9,3,6] 1.0\n",
      "y[9,3,7] 1.0\n",
      "y[9,3,8] 1.0\n",
      "y[10,3,1] 1.0\n",
      "y[10,3,2] 1.0\n",
      "y[10,3,3] 1.0\n",
      "y[10,3,4] 1.0\n",
      "y[10,3,5] 1.0\n",
      "y[10,3,6] 1.0\n",
      "y[10,3,7] 1.0\n",
      "y[10,3,8] 1.0\n",
      "y[11,3,6] 1.0\n",
      "y[11,3,7] 1.0\n",
      "y[11,3,8] 1.0\n",
      "sC[1,7] 4.0\n",
      "sC[3,7] 7.0\n",
      "sC[7,7] 1.0\n",
      "sC[8,2] 2.0\n",
      "sC[9,2] 1.0\n",
      "sC[9,7] 3.0\n",
      "o[11,1] 3.0\n",
      "o[11,3] 3.0\n",
      "z[7,3,1] 1.0\n",
      "z[9,3,5] 1.0\n",
      "z[10,3,1] 1.0\n",
      "z[11,3,6] 1.0\n"
     ]
    }
   ],
   "source": [
    "for v in model.getVars():\n",
    "    if v.X > 0:\n",
    "        print(v.VarName, v.X)"
   ]
  },
  {
   "cell_type": "code",
   "execution_count": 20,
   "metadata": {},
   "outputs": [
    {
     "data": {
      "text/plain": [
       "93384.8"
      ]
     },
     "execution_count": 20,
     "metadata": {},
     "output_type": "execute_result"
    }
   ],
   "source": [
    "model.ObjVal"
   ]
  },
  {
   "cell_type": "code",
   "execution_count": null,
   "metadata": {},
   "outputs": [],
   "source": []
  },
  {
   "cell_type": "code",
   "execution_count": null,
   "metadata": {},
   "outputs": [],
   "source": []
  }
 ],
 "metadata": {
  "hide_input": false,
  "kernelspec": {
   "display_name": "Python 3",
   "language": "python",
   "name": "python3"
  },
  "language_info": {
   "codemirror_mode": {
    "name": "ipython",
    "version": 3
   },
   "file_extension": ".py",
   "mimetype": "text/x-python",
   "name": "python",
   "nbconvert_exporter": "python",
   "pygments_lexer": "ipython3",
   "version": "3.6.4"
  },
  "toc": {
   "nav_menu": {},
   "number_sections": true,
   "sideBar": true,
   "skip_h1_title": false,
   "title_cell": "Table of Contents",
   "title_sidebar": "Contents",
   "toc_cell": false,
   "toc_position": {},
   "toc_section_display": true,
   "toc_window_display": false
  }
 },
 "nbformat": 4,
 "nbformat_minor": 2
}
