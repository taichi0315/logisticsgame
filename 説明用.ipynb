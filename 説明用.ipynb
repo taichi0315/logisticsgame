{
 "cells": [
  {
   "cell_type": "code",
   "execution_count": 66,
   "metadata": {},
   "outputs": [],
   "source": [
    "from gurobipy import Model, quicksum, GRB"
   ]
  },
  {
   "cell_type": "code",
   "execution_count": 67,
   "metadata": {},
   "outputs": [],
   "source": [
    "Cust = set(range(1,4))\n",
    "DC = Cust.copy() \n",
    "Route = {(i,j) for i in DC for j in Cust}"
   ]
  },
  {
   "cell_type": "code",
   "execution_count": 76,
   "metadata": {},
   "outputs": [],
   "source": [
    "del_cost = {(i,j):5 for i,j in Route}\n",
    "\n",
    "demand = {j:10 for j in Cust}"
   ]
  },
  {
   "cell_type": "code",
   "execution_count": 77,
   "metadata": {},
   "outputs": [],
   "source": [
    "model = Model()"
   ]
  },
  {
   "cell_type": "code",
   "execution_count": 85,
   "metadata": {},
   "outputs": [],
   "source": [
    "x, y = {}, {}\n",
    "\n",
    "for i,j in Route:\n",
    "    x[i,j] = model.addVar(vtype=\"C\", name=f'x[{i},{j}]')\n",
    "\n",
    "for i in DC:\n",
    "    y[i] = model.addVar(vtype=\"B\", name=f'y[{i}]')\n",
    "\n",
    "model.update()"
   ]
  },
  {
   "cell_type": "code",
   "execution_count": 86,
   "metadata": {},
   "outputs": [],
   "source": [
    "Cust_Demand_Cons, DC_Running_Cons = {}, {}\n",
    "\n",
    "for j in Cust:\n",
    "    Cust_Demand_Cons[j] = model.addConstr(\n",
    "        quicksum(x[i,j] for i in DC)\n",
    "        ==\n",
    "        demand[j]\n",
    "    )\n",
    "\n",
    "for i,j in Route:\n",
    "    DC_Running_Cons[i]\n",
    "    \n",
    "model.update()"
   ]
  },
  {
   "cell_type": "code",
   "execution_count": 87,
   "metadata": {},
   "outputs": [],
   "source": [
    "model.setObjective(\n",
    "    quicksum(del_cost[i,j] * x[i,j] for i,j in Route)\n",
    "    ,GRB.MINIMIZE\n",
    ")\n",
    "\n",
    "model.update()"
   ]
  },
  {
   "cell_type": "code",
   "execution_count": 88,
   "metadata": {},
   "outputs": [
    {
     "name": "stdout",
     "output_type": "stream",
     "text": [
      "Optimize a model with 6 rows, 21 columns and 18 nonzeros\n",
      "Variable types: 18 continuous, 3 integer (3 binary)\n",
      "Coefficient statistics:\n",
      "  Matrix range     [1e+00, 1e+00]\n",
      "  Objective range  [5e+00, 5e+00]\n",
      "  Bounds range     [1e+00, 1e+00]\n",
      "  RHS range        [1e+01, 1e+01]\n",
      "Presolve removed 6 rows and 21 columns\n",
      "Presolve time: 0.00s\n",
      "Presolve: All rows and columns removed\n",
      "\n",
      "Explored 0 nodes (0 simplex iterations) in 0.00 seconds\n",
      "Thread count was 1 (of 8 available processors)\n",
      "\n",
      "Solution count 1: 150 \n",
      "\n",
      "Optimal solution found (tolerance 1.00e-04)\n",
      "Best objective 1.500000000000e+02, best bound 1.500000000000e+02, gap 0.0000%\n"
     ]
    }
   ],
   "source": [
    "model.optimize()"
   ]
  },
  {
   "cell_type": "code",
   "execution_count": 89,
   "metadata": {},
   "outputs": [
    {
     "name": "stdout",
     "output_type": "stream",
     "text": [
      "x[1,2] 10.0\n",
      "x[1,3] 10.0\n",
      "x[3,1] 10.0\n",
      "x[2,3] 10.0\n",
      "x[2,2] 10.0\n",
      "x[1,1] 10.0\n"
     ]
    }
   ],
   "source": [
    "for v in model.getVars():\n",
    "    if v.X > 0:\n",
    "        print(v.VarName, v.X)"
   ]
  },
  {
   "cell_type": "code",
   "execution_count": null,
   "metadata": {},
   "outputs": [],
   "source": []
  }
 ],
 "metadata": {
  "kernelspec": {
   "display_name": "Python 3",
   "language": "python",
   "name": "python3"
  },
  "language_info": {
   "codemirror_mode": {
    "name": "ipython",
    "version": 3
   },
   "file_extension": ".py",
   "mimetype": "text/x-python",
   "name": "python",
   "nbconvert_exporter": "python",
   "pygments_lexer": "ipython3",
   "version": "3.7.2"
  }
 },
 "nbformat": 4,
 "nbformat_minor": 2
}
