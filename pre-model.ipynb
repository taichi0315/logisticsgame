{
 "cells": [
  {
   "cell_type": "code",
   "execution_count": 1,
   "metadata": {},
   "outputs": [],
   "source": [
    "from gurobipy import Model, quicksum, GRB"
   ]
  },
  {
   "cell_type": "code",
   "execution_count": 2,
   "metadata": {},
   "outputs": [],
   "source": [
    "Plnt = {'plnt'}\n",
    "DC = set(range(1,3))\n",
    "Cust = DC.copy()\n",
    "TRoute = {(i,j) for i in Plnt for j in DC}\n",
    "DRoute = {(j,k) for j in DC for k in Cust}\n",
    "Route = TRoute | DRoute\n",
    "CT = {1,2}\n",
    "\n",
    "T = 2\n",
    "Period = list(range(1, T+1))"
   ]
  },
  {
   "cell_type": "code",
   "execution_count": 3,
   "metadata": {},
   "outputs": [],
   "source": [
    "tp_cost = {(i,j):1 for i,j in TRoute}\n",
    "del_cost = {(j, k):2 for j,k in DRoute}\n",
    "demand = {(k,t):10 for k in Cust for t in Period}\n",
    "dc_run_cost = {(j,ct):1 * ct for j in DC for ct in CT}\n",
    "dc_inv_cost = {j:0 for j in DC}\n",
    "dc_ub = {ct:40 * ct for ct in CT}\n",
    "cust_inv_cost = {k:30 for k in Cust}"
   ]
  },
  {
   "cell_type": "code",
   "execution_count": 4,
   "metadata": {},
   "outputs": [
    {
     "data": {
      "text/plain": [
       "{1: 40, 2: 80}"
      ]
     },
     "execution_count": 4,
     "metadata": {},
     "output_type": "execute_result"
    }
   ],
   "source": [
    "dc_ub"
   ]
  },
  {
   "cell_type": "code",
   "execution_count": 5,
   "metadata": {},
   "outputs": [
    {
     "name": "stdout",
     "output_type": "stream",
     "text": [
      "Academic license - for non-commercial use only\n"
     ]
    }
   ],
   "source": [
    "model = Model()"
   ]
  },
  {
   "cell_type": "code",
   "execution_count": 6,
   "metadata": {},
   "outputs": [],
   "source": [
    "x, y, dc_inv, dc_plus_inv, cust_inv, cust_plus_inv = {}, {}, {}, {}, {}, {}\n",
    "\n",
    "for i,j in Route:\n",
    "    for t in Period:\n",
    "        x[i,j,t] = model.addVar(vtype=\"C\", name=f'x[{i},{j},{t}]')\n",
    "\n",
    "for j in DC:\n",
    "    for ct in CT:\n",
    "        for t in Period:\n",
    "            y[j,ct,t] = model.addVar(vtype=\"B\", name=f'y[{j},{ct},{t}]')\n",
    "    \n",
    "for j in DC:\n",
    "    dc_plus_inv[j] = model.addVar(vtype=\"C\", name=f'dc_plus_inv[{j}]')\n",
    "    dc_inv[j,0] = model.addVar(vtype=\"C\", ub=0, name=f'dc_inv[{j},{t}]')  \n",
    "    for t in Period:\n",
    "        dc_inv[j,t] = model.addVar(vtype=\"C\", name=f'dc_inv[{j},{t}]')    \n",
    "\n",
    "for k in Cust:\n",
    "    cust_plus_inv[k] = model.addVar(vtype=\"C\", name=f'cust_plus_inv[{k}]')\n",
    "    cust_inv[k,0] = model.addVar(vtype=\"C\", ub=0, name=f'cust_inv[{k},{t}]')  \n",
    "    for t in Period:\n",
    "        cust_inv[k,t] = model.addVar(vtype=\"C\", name=f'cust_inv[{k},{t}]')\n",
    "\n",
    "model.update()"
   ]
  },
  {
   "cell_type": "code",
   "execution_count": 7,
   "metadata": {},
   "outputs": [],
   "source": [
    "Cust_Demand_Cons, DC_Running_Cons, DC_Flow_Cons, Center_Type_Cons, DC_UB_Cons = {}, {}, {}, {}, {}\n",
    "\n",
    "for k in Cust:\n",
    "    for t in Period:\n",
    "        Cust_Demand_Cons[k,t] = model.addConstr(\n",
    "            quicksum(x[j,k,t] for j in DC)\n",
    "            + cust_inv[k,t-1]\n",
    "            ==\n",
    "            demand[k,t]\n",
    "            + cust_inv[k,t]\n",
    "        )\n",
    "\n",
    "for j,k in DRoute:\n",
    "    for t in Period:\n",
    "        DC_Running_Cons[j,k,t] = model.addConstr(\n",
    "            x[j,k,t]\n",
    "            <=\n",
    "            quicksum(demand[k,t_] for t_ in Period) * quicksum(y[j,ct,t] for ct in CT) \n",
    "        )\n",
    "\n",
    "for j in DC:\n",
    "    for t in Period:\n",
    "        DC_Flow_Cons[j,t] = model.addConstr(\n",
    "            quicksum(x[i,j,t] for i in Plnt)\n",
    "            + dc_inv[j,t-1]\n",
    "            ==\n",
    "            quicksum(x[j,k,t] for k in Cust)\n",
    "            + dc_inv[j,t]\n",
    "        )\n",
    "\n",
    "for j in DC:\n",
    "    for t in Period:\n",
    "        Center_Type_Cons[j,t] = model.addConstr(\n",
    "            quicksum(y[j,ct,t] for ct in CT)\n",
    "            <=\n",
    "            1\n",
    "        )\n",
    "\n",
    "for j in DC:\n",
    "    for t in Period:\n",
    "        DC_UB_Cons[j,t] = model.addConstr(\n",
    "            quicksum(x[i,j,t] for i in Plnt) + dc_inv[j,t-1]\n",
    "            <=\n",
    "            quicksum(dc_ub[ct] * y[j,ct,t] for ct in CT)\n",
    "        )\n",
    "\n",
    "model.addConstr(x[\"plnt\",1,2]==0)\n",
    "model.addConstr(x[\"plnt\",2,2]==0)\n",
    "        \n",
    "model.update()"
   ]
  },
  {
   "cell_type": "code",
   "execution_count": 8,
   "metadata": {},
   "outputs": [],
   "source": [
    "model.setObjective(\n",
    "    quicksum(tp_cost[i,j] * x[i,j,t] for i,j in TRoute for t in Period) +\n",
    "    quicksum(del_cost[j,k] * x[j,k,t] for j,k in DRoute for t in Period) +\n",
    "    quicksum(dc_run_cost[j,ct] * y[j,ct,t] for j in DC for ct in CT for t in Period) +\n",
    "    quicksum(dc_inv_cost[j] * dc_inv[j,t] for j in DC for t in Period) +\n",
    "    quicksum(dc_inv_cost[j] * dc_plus_inv[j] for j in DC) + \n",
    "    quicksum(cust_inv_cost[k] * cust_inv[k,t] for k in Cust for t in Period) +\n",
    "    quicksum(cust_inv_cost[k] * cust_plus_inv[k] for k in Cust)\n",
    "    ,GRB.MINIMIZE\n",
    ")\n",
    "model.update()"
   ]
  },
  {
   "cell_type": "code",
   "execution_count": 9,
   "metadata": {},
   "outputs": [
    {
     "name": "stdout",
     "output_type": "stream",
     "text": [
      "Optimize a model with 26 rows, 36 columns and 86 nonzeros\n",
      "Variable types: 28 continuous, 8 integer (8 binary)\n",
      "Coefficient statistics:\n",
      "  Matrix range     [1e+00, 8e+01]\n",
      "  Objective range  [1e+00, 3e+01]\n",
      "  Bounds range     [1e+00, 1e+00]\n",
      "  RHS range        [1e+00, 1e+01]\n",
      "Presolve removed 16 rows and 25 columns\n",
      "Presolve time: 0.00s\n",
      "Presolved: 10 rows, 11 columns, 28 nonzeros\n",
      "Variable types: 5 continuous, 6 integer (6 binary)\n",
      "\n",
      "Root relaxation: objective 1.220000e+02, 6 iterations, 0.00 seconds\n",
      "\n",
      "    Nodes    |    Current Node    |     Objective Bounds      |     Work\n",
      " Expl Unexpl |  Obj  Depth IntInf | Incumbent    BestBd   Gap | It/Node Time\n",
      "\n",
      "     0     0  122.00000    0    2          -  122.00000      -     -    0s\n",
      "H    0     0                     123.0000000  122.00000  0.81%     -    0s\n",
      "*    0     0               0     122.0000000  122.00000  0.00%     -    0s\n",
      "\n",
      "Cutting planes:\n",
      "  Implied bound: 2\n",
      "\n",
      "Explored 1 nodes (7 simplex iterations) in 0.04 seconds\n",
      "Thread count was 4 (of 4 available processors)\n",
      "\n",
      "Solution count 2: 122 123 \n",
      "\n",
      "Optimal solution found (tolerance 1.00e-04)\n",
      "Best objective 1.220000000000e+02, best bound 1.220000000000e+02, gap 0.0000%\n"
     ]
    }
   ],
   "source": [
    "model.optimize()"
   ]
  },
  {
   "cell_type": "code",
   "execution_count": 10,
   "metadata": {},
   "outputs": [
    {
     "name": "stdout",
     "output_type": "stream",
     "text": [
      "x[1,2,1] 10.0\n",
      "x[1,2,2] 10.0\n",
      "x[plnt,1,1] 40.0\n",
      "x[1,1,1] 10.0\n",
      "x[1,1,2] 10.0\n",
      "y[1,1,1] 1.0\n",
      "y[1,1,2] 1.0\n",
      "dc_inv[1,1] 20.0\n"
     ]
    }
   ],
   "source": [
    "for v in model.getVars():\n",
    "    if v.X > 0:\n",
    "        print(v.VarName, v.X)"
   ]
  },
  {
   "cell_type": "code",
   "execution_count": null,
   "metadata": {},
   "outputs": [],
   "source": []
  },
  {
   "cell_type": "code",
   "execution_count": null,
   "metadata": {},
   "outputs": [],
   "source": []
  }
 ],
 "metadata": {
  "hide_input": false,
  "kernelspec": {
   "display_name": "Python 3",
   "language": "python",
   "name": "python3"
  },
  "language_info": {
   "codemirror_mode": {
    "name": "ipython",
    "version": 3
   },
   "file_extension": ".py",
   "mimetype": "text/x-python",
   "name": "python",
   "nbconvert_exporter": "python",
   "pygments_lexer": "ipython3",
   "version": "3.6.4"
  },
  "toc": {
   "nav_menu": {},
   "number_sections": true,
   "sideBar": true,
   "skip_h1_title": false,
   "title_cell": "Table of Contents",
   "title_sidebar": "Contents",
   "toc_cell": false,
   "toc_position": {},
   "toc_section_display": true,
   "toc_window_display": false
  }
 },
 "nbformat": 4,
 "nbformat_minor": 2
}
