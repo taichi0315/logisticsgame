{
 "cells": [
  {
   "cell_type": "code",
   "execution_count": 225,
   "metadata": {},
   "outputs": [],
   "source": [
    "from gurobipy import Model, quicksum, GRB"
   ]
  },
  {
   "cell_type": "code",
   "execution_count": 226,
   "metadata": {},
   "outputs": [],
   "source": [
    "Plnt = {'plnt'}\n",
    "DC = set(range(1,3))\n",
    "Cust = DC.copy()\n",
    "TRoute = {(i,j) for i in Plnt for j in DC}\n",
    "DRoute = {(j,k) for j in DC for k in Cust}\n",
    "Route = T_Route | D_Route\n",
    "CT = {1,2}\n",
    "\n",
    "T = 2\n",
    "Period = list(range(1, T+1))"
   ]
  },
  {
   "cell_type": "code",
   "execution_count": 227,
   "metadata": {},
   "outputs": [],
   "source": [
    "tp_cost = {(i,j):5 for i,j in TRoute}\n",
    "del_cost = {(j, k):10 for j,k in DRoute}\n",
    "demand = {(k,t):10 for k in Cust for t in Period}\n",
    "dc_run_cost = {(j,ct):1000 for j in DC for ct in CT}\n",
    "dc_inv_cost = {j:5 for j in DC}"
   ]
  },
  {
   "cell_type": "code",
   "execution_count": 228,
   "metadata": {},
   "outputs": [],
   "source": [
    "model = Model()"
   ]
  },
  {
   "cell_type": "code",
   "execution_count": 229,
   "metadata": {},
   "outputs": [],
   "source": [
    "x, y, dc_inv, dc_minus_inv = {}, {}, {}, {}\n",
    "\n",
    "for i,j in Route:\n",
    "    for t in Period:\n",
    "        x[i,j,t] = model.addVar(vtype=\"C\", name=f'x[{i},{j},{t}]')\n",
    "\n",
    "for j in DC:\n",
    "    for ct in CT:\n",
    "        for t in Period:\n",
    "            y[j,ct,t] = model.addVar(vtype=\"B\", name=f'y[{j},{ct},{t}]')\n",
    "    \n",
    "for j in DC:\n",
    "    for t in Period:\n",
    "        dc_inv[j,t] = model.addVar(vtype=\"C\", name=f'dc_inv[{j},{t}]')\n",
    "    \n",
    "for j in DC:\n",
    "    dc_minus_inv[j] = model.addVar(vtype=\"C\", name=f'dc_minus_inv[{j}]')\n",
    "\n",
    "model.update()"
   ]
  },
  {
   "cell_type": "code",
   "execution_count": 234,
   "metadata": {},
   "outputs": [],
   "source": [
    "Cust_Demand_Cons, DC_Running_Cons, DC_Flow_Cons = {}, {}, {}\n",
    "\n",
    "for k in Cust:\n",
    "    for t in Period:\n",
    "        Cust_Demand_Cons[k,t] = model.addConstr(\n",
    "            quicksum(x[j,k,t] for j in DC)\n",
    "            ==\n",
    "            demand[k,t]\n",
    "        )\n",
    "\n",
    "for j,k in DRoute:\n",
    "    for t in Period:\n",
    "        DC_Running_Cons[j,k,t] = model.addConstr(\n",
    "            x[j,k,t]\n",
    "            <=\n",
    "            demand[k,t] * quicksum(y[j,ct,t] for ct in CT) \n",
    "        )\n",
    "\n",
    "for j in DC:\n",
    "    for t in Period:\n",
    "        DC_Flow_Cons[j,t] = model.addConstr(\n",
    "            quicksum(x[i,j,t] for i in Plnt)\n",
    "            + (0 if t==1 else dc_inv[j,t-1] )\n",
    "            ==\n",
    "            quicksum(x[j,k,t] for k in Cust)\n",
    "            + dc_inv[j,t]\n",
    "        )\n",
    "\n",
    "model.addConstr(dc_inv[1,1] == 30)\n",
    "    \n",
    "model.update()"
   ]
  },
  {
   "cell_type": "code",
   "execution_count": 235,
   "metadata": {},
   "outputs": [],
   "source": [
    "model.setObjective(\n",
    "    quicksum(tp_cost[i,j] * x[i,j,t] for i,j in TRoute for t in Period) +\n",
    "    quicksum(del_cost[j,k] * x[j,k,t] for j,k in DRoute for t in Period) +\n",
    "    quicksum(dc_run_cost[j,ct] * y[j,ct,t] for j in DC for ct in CT for t in Period) +\n",
    "    quicksum(dc_inv_cost[j] * dc_inv[j,t] for j in DC for t in Period)\n",
    "    ,GRB.MINIMIZE\n",
    ")\n",
    "model.update()"
   ]
  },
  {
   "cell_type": "code",
   "execution_count": 236,
   "metadata": {},
   "outputs": [
    {
     "name": "stdout",
     "output_type": "stream",
     "text": [
      "Optimize a model with 34 rows, 36 columns and 102 nonzeros\n",
      "Variable types: 28 continuous, 8 integer (8 binary)\n",
      "Coefficient statistics:\n",
      "  Matrix range     [1e+00, 1e+01]\n",
      "  Objective range  [5e+00, 1e+03]\n",
      "  Bounds range     [1e+00, 1e+00]\n",
      "  RHS range        [1e+01, 3e+01]\n",
      "\n",
      "MIP start did not produce a new incumbent solution\n",
      "\n",
      "Presolve removed 0 rows and 12 columns\n",
      "Presolve time: 0.00s\n",
      "\n",
      "Explored 0 nodes (0 simplex iterations) in 0.01 seconds\n",
      "Thread count was 1 (of 4 available processors)\n",
      "\n",
      "Solution count 0\n",
      "\n",
      "Model is infeasible\n",
      "Best objective -, best bound -, gap -\n"
     ]
    }
   ],
   "source": [
    "model.optimize()"
   ]
  },
  {
   "cell_type": "code",
   "execution_count": 237,
   "metadata": {},
   "outputs": [
    {
     "ename": "AttributeError",
     "evalue": "b\"Unable to retrieve attribute 'X'\"",
     "output_type": "error",
     "traceback": [
      "\u001b[0;31m----------------------------------------------------------------------\u001b[0m",
      "\u001b[0;31mAttributeError\u001b[0m                       Traceback (most recent call last)",
      "\u001b[0;32m<ipython-input-237-fad6183682ee>\u001b[0m in \u001b[0;36m<module>\u001b[0;34m()\u001b[0m\n\u001b[1;32m      1\u001b[0m \u001b[0;32mfor\u001b[0m \u001b[0mv\u001b[0m \u001b[0;32min\u001b[0m \u001b[0mmodel\u001b[0m\u001b[0;34m.\u001b[0m\u001b[0mgetVars\u001b[0m\u001b[0;34m(\u001b[0m\u001b[0;34m)\u001b[0m\u001b[0;34m:\u001b[0m\u001b[0;34m\u001b[0m\u001b[0m\n\u001b[0;32m----> 2\u001b[0;31m     \u001b[0;32mif\u001b[0m \u001b[0mv\u001b[0m\u001b[0;34m.\u001b[0m\u001b[0mX\u001b[0m \u001b[0;34m>\u001b[0m \u001b[0;36m0\u001b[0m\u001b[0;34m:\u001b[0m\u001b[0;34m\u001b[0m\u001b[0m\n\u001b[0m\u001b[1;32m      3\u001b[0m         \u001b[0mprint\u001b[0m\u001b[0;34m(\u001b[0m\u001b[0mv\u001b[0m\u001b[0;34m.\u001b[0m\u001b[0mVarName\u001b[0m\u001b[0;34m,\u001b[0m \u001b[0mv\u001b[0m\u001b[0;34m.\u001b[0m\u001b[0mX\u001b[0m\u001b[0;34m)\u001b[0m\u001b[0;34m\u001b[0m\u001b[0m\n",
      "\u001b[0;32mvar.pxi\u001b[0m in \u001b[0;36mgurobipy.Var.__getattr__\u001b[0;34m()\u001b[0m\n",
      "\u001b[0;32mvar.pxi\u001b[0m in \u001b[0;36mgurobipy.Var.getAttr\u001b[0;34m()\u001b[0m\n",
      "\u001b[0;31mAttributeError\u001b[0m: b\"Unable to retrieve attribute 'X'\""
     ]
    }
   ],
   "source": [
    "for v in model.getVars():\n",
    "    if v.X > 0:\n",
    "        print(v.VarName, v.X)"
   ]
  },
  {
   "cell_type": "code",
   "execution_count": null,
   "metadata": {},
   "outputs": [],
   "source": []
  },
  {
   "cell_type": "code",
   "execution_count": null,
   "metadata": {},
   "outputs": [],
   "source": []
  }
 ],
 "metadata": {
  "hide_input": false,
  "kernelspec": {
   "display_name": "Python 3",
   "language": "python",
   "name": "python3"
  },
  "language_info": {
   "codemirror_mode": {
    "name": "ipython",
    "version": 3
   },
   "file_extension": ".py",
   "mimetype": "text/x-python",
   "name": "python",
   "nbconvert_exporter": "python",
   "pygments_lexer": "ipython3",
   "version": "3.6.4"
  },
  "toc": {
   "nav_menu": {},
   "number_sections": true,
   "sideBar": true,
   "skip_h1_title": false,
   "title_cell": "Table of Contents",
   "title_sidebar": "Contents",
   "toc_cell": false,
   "toc_position": {},
   "toc_section_display": true,
   "toc_window_display": false
  }
 },
 "nbformat": 4,
 "nbformat_minor": 2
}
