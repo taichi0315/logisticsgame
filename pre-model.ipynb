{
 "cells": [
  {
   "cell_type": "code",
   "execution_count": 238,
   "metadata": {},
   "outputs": [],
   "source": [
    "from gurobipy import Model, quicksum, GRB"
   ]
  },
  {
   "cell_type": "code",
   "execution_count": 239,
   "metadata": {},
   "outputs": [],
   "source": [
    "Plnt = {'plnt'}\n",
    "DC = set(range(1,3))\n",
    "Cust = DC.copy()\n",
    "TRoute = {(i,j) for i in Plnt for j in DC}\n",
    "DRoute = {(j,k) for j in DC for k in Cust}\n",
    "Route = T_Route | D_Route\n",
    "CT = {1,2}\n",
    "\n",
    "T = 2\n",
    "Period = list(range(1, T+1))"
   ]
  },
  {
   "cell_type": "code",
   "execution_count": 240,
   "metadata": {},
   "outputs": [],
   "source": [
    "tp_cost = {(i,j):5 for i,j in TRoute}\n",
    "del_cost = {(j, k):10 for j,k in DRoute}\n",
    "demand = {(k,t):10 for k in Cust for t in Period}\n",
    "dc_run_cost = {(j,ct):1000 for j in DC for ct in CT}\n",
    "dc_inv_cost = {j:5 for j in DC}"
   ]
  },
  {
   "cell_type": "code",
   "execution_count": 241,
   "metadata": {},
   "outputs": [],
   "source": [
    "model = Model()"
   ]
  },
  {
   "cell_type": "code",
   "execution_count": 242,
   "metadata": {},
   "outputs": [],
   "source": [
    "x, y, dc_inv, dc_minus_inv = {}, {}, {}, {}\n",
    "\n",
    "for i,j in Route:\n",
    "    for t in Period:\n",
    "        x[i,j,t] = model.addVar(vtype=\"C\", name=f'x[{i},{j},{t}]')\n",
    "\n",
    "for j in DC:\n",
    "    for ct in CT:\n",
    "        for t in Period:\n",
    "            y[j,ct,t] = model.addVar(vtype=\"B\", name=f'y[{j},{ct},{t}]')\n",
    "    \n",
    "for j in DC:\n",
    "    for t in Period:\n",
    "        dc_inv[j,t] = model.addVar(vtype=\"C\", name=f'dc_inv[{j},{t}]')\n",
    "    \n",
    "for j in DC:\n",
    "    dc_minus_inv[j] = model.addVar(vtype=\"C\", name=f'dc_minus_inv[{j}]')\n",
    "\n",
    "model.update()"
   ]
  },
  {
   "cell_type": "code",
   "execution_count": 243,
   "metadata": {},
   "outputs": [],
   "source": [
    "Cust_Demand_Cons, DC_Running_Cons, DC_Flow_Cons = {}, {}, {}\n",
    "\n",
    "for k in Cust:\n",
    "    for t in Period:\n",
    "        Cust_Demand_Cons[k,t] = model.addConstr(\n",
    "            quicksum(x[j,k,t] for j in DC)\n",
    "            ==\n",
    "            demand[k,t]\n",
    "        )\n",
    "\n",
    "for j,k in DRoute:\n",
    "    for t in Period:\n",
    "        DC_Running_Cons[j,k,t] = model.addConstr(\n",
    "            x[j,k,t]\n",
    "            <=\n",
    "            demand[k,t] * quicksum(y[j,ct,t] for ct in CT) \n",
    "        )\n",
    "\n",
    "for j in DC:\n",
    "    for t in Period:\n",
    "        DC_Flow_Cons[j,t] = model.addConstr(\n",
    "            quicksum(x[i,j,t] for i in Plnt)\n",
    "            + (0 if t==1 else dc_inv[j,t-1] )\n",
    "            ==\n",
    "            quicksum(x[j,k,t] for k in Cust)\n",
    "            + (dc_minus_inv[j] if t==T else dc_inv[j,t])\n",
    "        )\n",
    "\n",
    "model.addConstr(dc_inv[1,1] == 30)\n",
    "    \n",
    "model.update()"
   ]
  },
  {
   "cell_type": "code",
   "execution_count": 244,
   "metadata": {},
   "outputs": [],
   "source": [
    "model.setObjective(\n",
    "    quicksum(tp_cost[i,j] * x[i,j,t] for i,j in TRoute for t in Period) +\n",
    "    quicksum(del_cost[j,k] * x[j,k,t] for j,k in DRoute for t in Period) +\n",
    "    quicksum(dc_run_cost[j,ct] * y[j,ct,t] for j in DC for ct in CT for t in Period) +\n",
    "    quicksum(dc_inv_cost[j] * dc_inv[j,t] for j in DC for t in Period) +\n",
    "    quicksum(dc_inv_cost[j] * dc_minus_inv[j] for j in DC)\n",
    "    ,GRB.MINIMIZE\n",
    ")\n",
    "model.update()"
   ]
  },
  {
   "cell_type": "code",
   "execution_count": 245,
   "metadata": {},
   "outputs": [
    {
     "name": "stdout",
     "output_type": "stream",
     "text": [
      "Optimize a model with 17 rows, 38 columns and 51 nonzeros\n",
      "Variable types: 30 continuous, 8 integer (8 binary)\n",
      "Coefficient statistics:\n",
      "  Matrix range     [1e+00, 1e+01]\n",
      "  Objective range  [5e+00, 1e+03]\n",
      "  Bounds range     [1e+00, 1e+00]\n",
      "  RHS range        [1e+01, 3e+01]\n",
      "Presolve removed 17 rows and 38 columns\n",
      "Presolve time: 0.00s\n",
      "Presolve: All rows and columns removed\n",
      "\n",
      "Explored 0 nodes (0 simplex iterations) in 0.03 seconds\n",
      "Thread count was 1 (of 4 available processors)\n",
      "\n",
      "Solution count 1: 2850 \n",
      "\n",
      "Optimal solution found (tolerance 1.00e-04)\n",
      "Best objective 2.850000000000e+03, best bound 2.850000000000e+03, gap 0.0000%\n"
     ]
    }
   ],
   "source": [
    "model.optimize()"
   ]
  },
  {
   "cell_type": "code",
   "execution_count": 246,
   "metadata": {},
   "outputs": [
    {
     "name": "stdout",
     "output_type": "stream",
     "text": [
      "x[1,2,2] 10.0\n",
      "x[2,1,1] 10.0\n",
      "x[plnt,2,1] 20.0\n",
      "x[plnt,1,1] 30.0\n",
      "x[2,2,1] 10.0\n",
      "x[1,1,2] 10.0\n",
      "y[1,1,2] 1.0\n",
      "y[2,1,1] 1.0\n",
      "dc_inv[1,1] 30.0\n",
      "dc_minus_inv[1] 10.0\n"
     ]
    }
   ],
   "source": [
    "for v in model.getVars():\n",
    "    if v.X > 0:\n",
    "        print(v.VarName, v.X)"
   ]
  },
  {
   "cell_type": "code",
   "execution_count": null,
   "metadata": {},
   "outputs": [],
   "source": []
  },
  {
   "cell_type": "code",
   "execution_count": null,
   "metadata": {},
   "outputs": [],
   "source": []
  }
 ],
 "metadata": {
  "hide_input": false,
  "kernelspec": {
   "display_name": "Python 3",
   "language": "python",
   "name": "python3"
  },
  "language_info": {
   "codemirror_mode": {
    "name": "ipython",
    "version": 3
   },
   "file_extension": ".py",
   "mimetype": "text/x-python",
   "name": "python",
   "nbconvert_exporter": "python",
   "pygments_lexer": "ipython3",
   "version": "3.6.4"
  },
  "toc": {
   "nav_menu": {},
   "number_sections": true,
   "sideBar": true,
   "skip_h1_title": false,
   "title_cell": "Table of Contents",
   "title_sidebar": "Contents",
   "toc_cell": false,
   "toc_position": {},
   "toc_section_display": true,
   "toc_window_display": false
  }
 },
 "nbformat": 4,
 "nbformat_minor": 2
}
