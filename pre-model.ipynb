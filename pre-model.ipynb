{
 "cells": [
  {
   "cell_type": "code",
   "execution_count": 163,
   "metadata": {},
   "outputs": [],
   "source": [
    "from gurobipy import Model, quicksum, GRB"
   ]
  },
  {
   "cell_type": "code",
   "execution_count": 177,
   "metadata": {},
   "outputs": [],
   "source": [
    "Plnt = {'plnt'}\n",
    "DC = set(range(1,3))\n",
    "Cust = DC.copy()\n",
    "TRoute = {(i,j) for i in Plnt for j in DC}\n",
    "DRoute = {(j,k) for j in DC for k in Cust}\n",
    "Route = T_Route | D_Route\n",
    "\n",
    "T = 2\n",
    "Period = list(range(1, T+1))"
   ]
  },
  {
   "cell_type": "code",
   "execution_count": 178,
   "metadata": {},
   "outputs": [],
   "source": [
    "tp_cost = {(i,j):5 for i,j in TRoute}\n",
    "del_cost = {(j, k):10 for j,k in DRoute}\n",
    "demand = {(k,t):10 for k in Cust for t in Period}\n",
    "run_dc_cost = {j:1000 for j in DC}"
   ]
  },
  {
   "cell_type": "code",
   "execution_count": 179,
   "metadata": {},
   "outputs": [],
   "source": [
    "model = Model()"
   ]
  },
  {
   "cell_type": "code",
   "execution_count": 180,
   "metadata": {},
   "outputs": [],
   "source": [
    "x,y = {}, {}\n",
    "\n",
    "for i,j in Route:\n",
    "    for t in Period:\n",
    "        x[i,j,t] = model.addVar(vtype=\"C\", name=f'x[{i},{j},{t}]')\n",
    "\n",
    "for j in DC:\n",
    "    for t in Period:\n",
    "        y[j,t] = model.addVar(vtype=\"B\", name=f'y[{j},{t}]')\n",
    "\n",
    "model.update()"
   ]
  },
  {
   "cell_type": "code",
   "execution_count": 181,
   "metadata": {},
   "outputs": [],
   "source": [
    "Cust_Demand_Cons, DC_Running_Cons, DC_Flow_Cons = {}, {}, {}\n",
    "\n",
    "for k in Cust:\n",
    "    for t in Period:\n",
    "        Cust_Demand_Cons[k,t] = model.addConstr(\n",
    "            quicksum(x[j,k,t] for j in DC)\n",
    "            ==\n",
    "            demand[k,t]\n",
    "        )\n",
    "\n",
    "for j,k in DRoute:\n",
    "    for t in Period:\n",
    "        DC_Running_Cons[j,k,t] = model.addConstr(\n",
    "            x[j,k,t]\n",
    "            <=\n",
    "            demand[k,t] * y[j,t]\n",
    "        )\n",
    "\n",
    "for j in DC:\n",
    "    for t in Period:\n",
    "        DC_Flow_Cons[j,t] = model.addConstr(\n",
    "            quicksum(x[i,j,t] for i in Plnt)\n",
    "            ==\n",
    "            quicksum(x[j,k,t] for k in Cust)\n",
    "        )\n",
    "    \n",
    "model.update()"
   ]
  },
  {
   "cell_type": "code",
   "execution_count": 182,
   "metadata": {},
   "outputs": [],
   "source": [
    "model.setObjective(\n",
    "    quicksum(tp_cost[i,j] * x[i,j,t] for i,j in TRoute for t in Period) +\n",
    "    quicksum(del_cost[j,k] * x[j,k,t] for j,k in DRoute for t in Period) +\n",
    "    quicksum(run_dc_cost[j] * y[j,t] for j in DC for t in Period)\n",
    "    ,GRB.MINIMIZE\n",
    ")\n",
    "model.update()"
   ]
  },
  {
   "cell_type": "code",
   "execution_count": 183,
   "metadata": {},
   "outputs": [
    {
     "name": "stdout",
     "output_type": "stream",
     "text": [
      "Optimize a model with 16 rows, 28 columns and 36 nonzeros\n",
      "Variable types: 24 continuous, 4 integer (4 binary)\n",
      "Coefficient statistics:\n",
      "  Matrix range     [1e+00, 1e+01]\n",
      "  Objective range  [5e+00, 1e+03]\n",
      "  Bounds range     [1e+00, 1e+00]\n",
      "  RHS range        [1e+01, 1e+01]\n",
      "Presolve removed 16 rows and 28 columns\n",
      "Presolve time: 0.00s\n",
      "Presolve: All rows and columns removed\n",
      "\n",
      "Explored 0 nodes (0 simplex iterations) in 0.02 seconds\n",
      "Thread count was 1 (of 4 available processors)\n",
      "\n",
      "Solution count 1: 2600 \n",
      "\n",
      "Optimal solution found (tolerance 1.00e-04)\n",
      "Best objective 2.600000000000e+03, best bound 2.600000000000e+03, gap 0.0000%\n"
     ]
    }
   ],
   "source": [
    "model.optimize()"
   ]
  },
  {
   "cell_type": "code",
   "execution_count": 184,
   "metadata": {},
   "outputs": [
    {
     "name": "stdout",
     "output_type": "stream",
     "text": [
      "x[2,1,1] 10.0\n",
      "x[2,1,2] 10.0\n",
      "x[plnt,2,1] 20.0\n",
      "x[plnt,2,2] 20.0\n",
      "x[2,2,1] 10.0\n",
      "x[2,2,2] 10.0\n",
      "y[2,1] 1.0\n",
      "y[2,2] 1.0\n"
     ]
    }
   ],
   "source": [
    "for v in model.getVars():\n",
    "    if v.X > 0:\n",
    "        print(v.VarName, v.X)"
   ]
  },
  {
   "cell_type": "code",
   "execution_count": null,
   "metadata": {},
   "outputs": [],
   "source": []
  },
  {
   "cell_type": "code",
   "execution_count": null,
   "metadata": {},
   "outputs": [],
   "source": []
  }
 ],
 "metadata": {
  "hide_input": false,
  "kernelspec": {
   "display_name": "Python 3",
   "language": "python",
   "name": "python3"
  },
  "language_info": {
   "codemirror_mode": {
    "name": "ipython",
    "version": 3
   },
   "file_extension": ".py",
   "mimetype": "text/x-python",
   "name": "python",
   "nbconvert_exporter": "python",
   "pygments_lexer": "ipython3",
   "version": "3.6.4"
  },
  "toc": {
   "nav_menu": {},
   "number_sections": true,
   "sideBar": true,
   "skip_h1_title": false,
   "title_cell": "Table of Contents",
   "title_sidebar": "Contents",
   "toc_cell": false,
   "toc_position": {},
   "toc_section_display": true,
   "toc_window_display": false
  }
 },
 "nbformat": 4,
 "nbformat_minor": 2
}
