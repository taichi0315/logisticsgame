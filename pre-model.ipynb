{
 "cells": [
  {
   "cell_type": "code",
   "execution_count": 1,
   "metadata": {},
   "outputs": [],
   "source": [
    "from gurobipy import Model, quicksum, GRB, max_, GenExpr"
   ]
  },
  {
   "cell_type": "code",
   "execution_count": 2,
   "metadata": {},
   "outputs": [],
   "source": [
    "DC = set(range(1,3))\n",
    "Cust = DC.copy()\n",
    "Route = {(i,j) for i in DC for j in Cust}\n",
    "CT = {1,2}\n",
    "\n",
    "T = 2\n",
    "Period = list(range(1, T+1))"
   ]
  },
  {
   "cell_type": "code",
   "execution_count": 5,
   "metadata": {},
   "outputs": [],
   "source": [
    "tp = {i:1 for i in DC}\n",
    "delivery = {(i,j):2 for i,j in Route}\n",
    "demand = {(k,t):10 for k in Cust for t in Period}\n",
    "dc_run_cost = {(j,ct):100 * ct for j in DC for ct in CT}\n",
    "dc_inv_cost = {j:1 for j in DC}\n",
    "dc_ub = {ct:40 * ct for ct in CT}\n",
    "dc_new_cost = {j:1000 for j in DC}\n",
    "cust_inv_cost = {k:30 for k in Cust}"
   ]
  },
  {
   "cell_type": "code",
   "execution_count": null,
   "metadata": {},
   "outputs": [],
   "source": [
    "dc_ub"
   ]
  },
  {
   "cell_type": "code",
   "execution_count": null,
   "metadata": {},
   "outputs": [],
   "source": [
    "model = Model()"
   ]
  },
  {
   "cell_type": "code",
   "execution_count": null,
   "metadata": {},
   "outputs": [],
   "source": [
    "x, y, dc_inv, cust_inv, dc_new  = {}, {}, {}, {}, {}\n",
    "\n",
    "for i,j in Route:\n",
    "    for t in Period:\n",
    "        x[i,j,t] = model.addVar(vtype=\"C\", name=f'x[{i},{j},{t}]')\n",
    "\n",
    "for j in DC:\n",
    "    for ct in CT:\n",
    "        y[j,ct,0] = model.addVar(vtype=\"B\", name=f'y[{j},{ct},{0}]')\n",
    "        for t in Period:\n",
    "            y[j,ct,t] = model.addVar(vtype=\"B\", name=f'y[{j},{ct},{t}]')\n",
    "    \n",
    "for j in DC:\n",
    "    dc_inv[j,0] = model.addVar(vtype=\"C\", ub=0, name=f'dc_inv[{j},{t}]')  \n",
    "    for t in Period:\n",
    "        dc_inv[j,t] = model.addVar(vtype=\"C\", name=f'dc_inv[{j},{t}]')    \n",
    "\n",
    "for k in Cust:\n",
    "    cust_inv[k,0] = model.addVar(vtype=\"C\", ub=0, name=f'cust_inv[{k},{t}]')  \n",
    "    for t in Period:\n",
    "        cust_inv[k,t] = model.addVar(vtype=\"C\", name=f'cust_inv[{k},{t}]')\n",
    "\n",
    "model.update()"
   ]
  },
  {
   "cell_type": "code",
   "execution_count": null,
   "metadata": {},
   "outputs": [],
   "source": [
    "Cust_Demand_Cons, DC_Running_Cons, DC_Flow_Cons, Center_Type_Cons, DC_UB_Cons = {}, {}, {}, {}, {}\n",
    "\n",
    "for k in Cust:\n",
    "    for t in Period:\n",
    "        Cust_Demand_Cons[k,t] = model.addConstr(\n",
    "            quicksum(x[j,k,t] for j in DC)\n",
    "            + cust_inv[k,t-1]\n",
    "            ==\n",
    "            demand[k,t]\n",
    "            + cust_inv[k,t]\n",
    "        )\n",
    "\n",
    "for j,k in DRoute:\n",
    "    for t in Period:\n",
    "        DC_Running_Cons[j,k,t] = model.addConstr(\n",
    "            x[j,k,t]\n",
    "            <=\n",
    "            quicksum(demand[k,t_] for t_ in Period) * quicksum(y[j,ct,t] for ct in CT) \n",
    "        )\n",
    "\n",
    "for j in DC:\n",
    "    for t in Period:\n",
    "        DC_Flow_Cons[j,t] = model.addConstr(\n",
    "            quicksum(x[i,j,t] for i in Plnt)\n",
    "            + dc_inv[j,t-1]\n",
    "            ==\n",
    "            quicksum(x[j,k,t] for k in Cust)\n",
    "            + dc_inv[j,t]\n",
    "        )\n",
    "\n",
    "for j in DC:\n",
    "    for t in Period:\n",
    "        Center_Type_Cons[j,t] = model.addConstr(\n",
    "            quicksum(y[j,ct,t] for ct in CT)\n",
    "            <=\n",
    "            1\n",
    "        )\n",
    "\n",
    "for j in DC:\n",
    "    for t in Period:\n",
    "        DC_UB_Cons[j,t] = model.addConstr(\n",
    "            quicksum(x[i,j,t] for i in Plnt) + dc_inv[j,t-1]\n",
    "            <=\n",
    "            quicksum(dc_ub[ct] * y[j,ct,t] for ct in CT)\n",
    "        )\n",
    "\n",
    "for j in DC:\n",
    "    for ct in CT:\n",
    "        for t in Period:\n",
    "            \n",
    "        \n",
    "model.update()"
   ]
  },
  {
   "cell_type": "code",
   "execution_count": null,
   "metadata": {},
   "outputs": [],
   "source": [
    "model.setObjective(\n",
    "    quicksum(tp_cost[i,j] * x[i,j,t] for i,j in TRoute for t in Period) +\n",
    "    quicksum(del_cost[j,k] * x[j,k,t] for j,k in DRoute for t in Period) +\n",
    "    quicksum(dc_run_cost[j,ct] * y[j,ct,t] for j in DC for ct in CT for t in Period) +\n",
    "    quicksum(dc_inv_cost[j] * dc_inv[j,t] for j in DC for t in Period) +\n",
    "    quicksum(cust_inv_cost[k] * cust_inv[k,t] for k in Cust for t in Period) +\n",
    "    quicksum(max_(y[j,ct,t] - y[j,ct,t-1], 0) * dc_new_cost[j] for j in DC for ct in CT for t in Period)\n",
    "    ,GRB.MINIMIZE\n",
    ")\n",
    "model.update()"
   ]
  },
  {
   "cell_type": "code",
   "execution_count": null,
   "metadata": {},
   "outputs": [],
   "source": [
    "model.optimize()"
   ]
  },
  {
   "cell_type": "code",
   "execution_count": null,
   "metadata": {},
   "outputs": [],
   "source": [
    "for v in model.getVars():\n",
    "    if v.X > 0:\n",
    "        print(v.VarName, v.X)"
   ]
  },
  {
   "cell_type": "code",
   "execution_count": null,
   "metadata": {},
   "outputs": [],
   "source": [
    "from gurobipy import GRBGenExpr"
   ]
  },
  {
   "cell_type": "code",
   "execution_count": null,
   "metadata": {},
   "outputs": [],
   "source": [
    "GenExpr(0);"
   ]
  },
  {
   "cell_type": "code",
   "execution_count": null,
   "metadata": {},
   "outputs": [],
   "source": []
  }
 ],
 "metadata": {
  "hide_input": false,
  "kernelspec": {
   "display_name": "Python 3",
   "language": "python",
   "name": "python3"
  },
  "language_info": {
   "codemirror_mode": {
    "name": "ipython",
    "version": 3
   },
   "file_extension": ".py",
   "mimetype": "text/x-python",
   "name": "python",
   "nbconvert_exporter": "python",
   "pygments_lexer": "ipython3",
   "version": "3.7.2"
  },
  "toc": {
   "nav_menu": {},
   "number_sections": true,
   "sideBar": true,
   "skip_h1_title": false,
   "title_cell": "Table of Contents",
   "title_sidebar": "Contents",
   "toc_cell": false,
   "toc_position": {},
   "toc_section_display": true,
   "toc_window_display": false
  }
 },
 "nbformat": 4,
 "nbformat_minor": 2
}
