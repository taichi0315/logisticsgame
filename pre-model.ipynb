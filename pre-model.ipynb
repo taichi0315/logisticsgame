{
 "cells": [
  {
   "cell_type": "code",
   "execution_count": 130,
   "metadata": {},
   "outputs": [],
   "source": [
    "from gurobipy import Model, quicksum, GRB"
   ]
  },
  {
   "cell_type": "code",
   "execution_count": 131,
   "metadata": {},
   "outputs": [],
   "source": [
    "Plnt = {'plnt'}\n",
    "DC = set(range(1,4))\n",
    "Cust = DC.copy()\n",
    "TRoute = {(i,j) for i in Plnt for j in DC}\n",
    "DRoute = {(j,k) for j in DC for k in Cust}\n",
    "Route = T_Route | D_Route\n",
    "\n",
    "T = 2\n",
    "Period = list(range(1, T+1))"
   ]
  },
  {
   "cell_type": "code",
   "execution_count": 134,
   "metadata": {},
   "outputs": [
    {
     "data": {
      "text/plain": [
       "{('plnt', 1),\n",
       " ('plnt', 2),\n",
       " ('plnt', 3),\n",
       " (1, 1),\n",
       " (1, 2),\n",
       " (1, 3),\n",
       " (2, 1),\n",
       " (2, 2),\n",
       " (2, 3),\n",
       " (3, 1),\n",
       " (3, 2),\n",
       " (3, 3)}"
      ]
     },
     "execution_count": 134,
     "metadata": {},
     "output_type": "execute_result"
    }
   ],
   "source": [
    "Route"
   ]
  },
  {
   "cell_type": "code",
   "execution_count": 135,
   "metadata": {},
   "outputs": [],
   "source": [
    "del_cost = {(j, k):10 for j,k in DRoute}\n",
    "demand = {(k,t):10 for k in Cust for t in Period}\n",
    "run_dc_cost = {j:1000 for j in DC}"
   ]
  },
  {
   "cell_type": "code",
   "execution_count": 136,
   "metadata": {},
   "outputs": [],
   "source": [
    "model = Model()"
   ]
  },
  {
   "cell_type": "code",
   "execution_count": 137,
   "metadata": {},
   "outputs": [],
   "source": [
    "x,y = {}, {}\n",
    "\n",
    "for j in DC:\n",
    "    for k in Cust:\n",
    "        for t in Period:\n",
    "            x[j,k,t] = model.addVar(vtype=\"C\", name=f'x[{j},{k},{t}]')\n",
    "\n",
    "for j in DC:\n",
    "    for t in Period:\n",
    "        y[j,t] = model.addVar(vtype=\"B\", name=f'y[{j},{t}]')\n",
    "\n",
    "model.update()"
   ]
  },
  {
   "cell_type": "code",
   "execution_count": 138,
   "metadata": {},
   "outputs": [],
   "source": [
    "Cust_Demand_Cons, DC_Running_Cons = {}, {}\n",
    "\n",
    "for k in Cust:\n",
    "    for t in Period:\n",
    "        Cust_Demand_Cons[k,t] = model.addConstr(\n",
    "            quicksum(x[j,k,t] for j in DC)\n",
    "            ==\n",
    "            demand[k,t]\n",
    "        )\n",
    "\n",
    "for j in DC:\n",
    "    for k in Cust:\n",
    "        for t in Period:\n",
    "            DC_Running_Cons[j,k,t] = model.addConstr(\n",
    "                x[j,k,t]\n",
    "                <=\n",
    "                demand[k,t] * y[j,t]\n",
    "            )\n",
    "    \n",
    "model.update()"
   ]
  },
  {
   "cell_type": "code",
   "execution_count": 139,
   "metadata": {},
   "outputs": [],
   "source": [
    "model.setObjective(\n",
    "    quicksum(del_cost[j,k] * x[j,k,t] for j in DC for k in Cust for t in Period) +\n",
    "    quicksum(run_dc_cost[j] * y[j,t] for j in DC for t in Period)\n",
    "    ,GRB.MINIMIZE\n",
    ")\n",
    "model.update()"
   ]
  },
  {
   "cell_type": "code",
   "execution_count": 140,
   "metadata": {},
   "outputs": [
    {
     "name": "stdout",
     "output_type": "stream",
     "text": [
      "Optimize a model with 24 rows, 24 columns and 54 nonzeros\n",
      "Variable types: 18 continuous, 6 integer (6 binary)\n",
      "Coefficient statistics:\n",
      "  Matrix range     [1e+00, 1e+01]\n",
      "  Objective range  [1e+01, 1e+03]\n",
      "  Bounds range     [1e+00, 1e+00]\n",
      "  RHS range        [1e+01, 1e+01]\n",
      "Presolve removed 20 rows and 18 columns\n",
      "Presolve time: 0.00s\n",
      "Presolved: 4 rows, 6 columns, 9 nonzeros\n",
      "Variable types: 3 continuous, 3 integer (3 binary)\n",
      "\n",
      "Root relaxation: objective 2.600000e+03, 3 iterations, 0.00 seconds\n",
      "\n",
      "    Nodes    |    Current Node    |     Objective Bounds      |     Work\n",
      " Expl Unexpl |  Obj  Depth IntInf | Incumbent    BestBd   Gap | It/Node Time\n",
      "\n",
      "*    0     0               0    2600.0000000 2600.00000  0.00%     -    0s\n",
      "\n",
      "Explored 0 nodes (3 simplex iterations) in 0.03 seconds\n",
      "Thread count was 4 (of 4 available processors)\n",
      "\n",
      "Solution count 1: 2600 \n",
      "\n",
      "Optimal solution found (tolerance 1.00e-04)\n",
      "Best objective 2.600000000000e+03, best bound 2.600000000000e+03, gap 0.0000%\n"
     ]
    }
   ],
   "source": [
    "model.optimize()"
   ]
  },
  {
   "cell_type": "code",
   "execution_count": 141,
   "metadata": {},
   "outputs": [
    {
     "name": "stdout",
     "output_type": "stream",
     "text": [
      "x[1,1,1] 0.0\n",
      "x[1,1,2] 0.0\n",
      "x[1,2,1] 0.0\n",
      "x[1,2,2] 0.0\n",
      "x[1,3,1] 0.0\n",
      "x[1,3,2] 0.0\n",
      "x[2,1,1] 0.0\n",
      "x[2,1,2] 0.0\n",
      "x[2,2,1] 0.0\n",
      "x[2,2,2] 0.0\n",
      "x[2,3,1] 0.0\n",
      "x[2,3,2] 0.0\n",
      "x[3,1,1] 10.0\n",
      "x[3,1,2] 10.0\n",
      "x[3,2,1] 10.0\n",
      "x[3,2,2] 10.0\n",
      "x[3,3,1] 10.0\n",
      "x[3,3,2] 10.0\n",
      "y[1,1] 0.0\n",
      "y[1,2] -0.0\n",
      "y[2,1] 0.0\n",
      "y[2,2] -0.0\n",
      "y[3,1] 1.0\n",
      "y[3,2] 1.0\n"
     ]
    }
   ],
   "source": [
    "for v in model.getVars():\n",
    "    print(v.VarName, v.X)"
   ]
  },
  {
   "cell_type": "code",
   "execution_count": null,
   "metadata": {},
   "outputs": [],
   "source": []
  },
  {
   "cell_type": "code",
   "execution_count": null,
   "metadata": {},
   "outputs": [],
   "source": []
  }
 ],
 "metadata": {
  "hide_input": false,
  "kernelspec": {
   "display_name": "Python 3",
   "language": "python",
   "name": "python3"
  },
  "language_info": {
   "codemirror_mode": {
    "name": "ipython",
    "version": 3
   },
   "file_extension": ".py",
   "mimetype": "text/x-python",
   "name": "python",
   "nbconvert_exporter": "python",
   "pygments_lexer": "ipython3",
   "version": "3.6.4"
  },
  "toc": {
   "nav_menu": {},
   "number_sections": true,
   "sideBar": true,
   "skip_h1_title": false,
   "title_cell": "Table of Contents",
   "title_sidebar": "Contents",
   "toc_cell": false,
   "toc_position": {},
   "toc_section_display": true,
   "toc_window_display": false
  }
 },
 "nbformat": 4,
 "nbformat_minor": 2
}
